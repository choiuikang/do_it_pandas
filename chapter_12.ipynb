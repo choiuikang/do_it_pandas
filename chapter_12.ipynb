{
 "cells": [
  {
   "cell_type": "markdown",
   "id": "229d4a9f",
   "metadata": {},
   "source": [
    "# 12-1 datetime 오브젝트\n",
    "datetime 라이브러리는 날짜와 시간을 처리하는 등의 다양한 기능을 제공하는 파이썬 라이브러리입니다. datetime 라이브러리에는 날짜를 처리하는 date 오브젝트, 시간을 처리하는 time 오브젝트, 날짜와 시간을 모두 처리하는 datetime 오브젝트가 포함되어 있습니다. 앞으로 3개의 오브젝트를 명확히 구분하기 위해 영문을 그대로 살려 date, time, datetime 오브젝트라고 부르겠습니다.\n",
    "### datetime 오브젝트 사용하기\n",
    "#### 1.\n",
    "datetime 오브젝트를 사용하기 위해 datetime 라이브러리를 불러옵니다."
   ]
  },
  {
   "cell_type": "code",
   "execution_count": 142,
   "id": "ccdb8d5a",
   "metadata": {},
   "outputs": [],
   "source": [
    "from datetime import datetime"
   ]
  },
  {
   "cell_type": "markdown",
   "id": "ac60e70f",
   "metadata": {},
   "source": [
    "#### 2.\n",
    "now, today 메서드를 사용하면 다음과 같이 현재 시간을 출력할 수 있습니다."
   ]
  },
  {
   "cell_type": "code",
   "execution_count": 143,
   "id": "21af273f",
   "metadata": {},
   "outputs": [
    {
     "name": "stdout",
     "output_type": "stream",
     "text": [
      "2021-09-23 00:20:55.474197\n"
     ]
    }
   ],
   "source": [
    "now1=datetime.now()\n",
    "print(now1)"
   ]
  },
  {
   "cell_type": "code",
   "execution_count": 144,
   "id": "b95db666",
   "metadata": {},
   "outputs": [
    {
     "name": "stdout",
     "output_type": "stream",
     "text": [
      "2021-09-23 00:20:55.803028\n"
     ]
    }
   ],
   "source": [
    "now2=datetime.today()\n",
    "print(now2)"
   ]
  },
  {
   "cell_type": "markdown",
   "id": "66ee4214",
   "metadata": {},
   "source": [
    "#### 3.\n",
    "다음은 datetime 오브젝트를 생성할 때 시간을 직접 입력하여 인자로 전달한 것입니다. 각 변수를 출력하여 확인해 보면 입력한 시간을 바탕으로 datetime 오브젝트가 생성된 것을 알 수 있습니다."
   ]
  },
  {
   "cell_type": "code",
   "execution_count": 145,
   "id": "0b8962c4",
   "metadata": {},
   "outputs": [
    {
     "name": "stdout",
     "output_type": "stream",
     "text": [
      "2021-09-23 00:20:56.338806\n",
      "1970-01-01 00:00:00\n",
      "1970-12-12 13:24:34\n"
     ]
    }
   ],
   "source": [
    "t1=datetime.now()\n",
    "t2=datetime(1970,1,1)\n",
    "t3=datetime(1970,12,12,13,24,34)\n",
    "\n",
    "print(t1)\n",
    "print(t2)\n",
    "print(t3)"
   ]
  },
  {
   "cell_type": "markdown",
   "id": "e6b7907c",
   "metadata": {},
   "source": [
    "#### 4.\n",
    "datetime 오브젝트를 사용하는 이유 중 하나는 시간 계산을 할 수 있다는 점입니다. 다음은 두 datetime 오브젝트의 차이를 구한 것입니다."
   ]
  },
  {
   "cell_type": "code",
   "execution_count": 146,
   "id": "f19497e0",
   "metadata": {},
   "outputs": [
    {
     "name": "stdout",
     "output_type": "stream",
     "text": [
      "18893 days, 0:20:56.338806\n",
      "<class 'datetime.timedelta'>\n"
     ]
    }
   ],
   "source": [
    "diff1=t1-t2\n",
    "print(diff1)\n",
    "print(type(diff1))"
   ]
  },
  {
   "cell_type": "code",
   "execution_count": 147,
   "id": "ced8db32",
   "metadata": {},
   "outputs": [
    {
     "name": "stdout",
     "output_type": "stream",
     "text": [
      "-18894 days, 23:39:03.661194\n",
      "<class 'datetime.timedelta'>\n"
     ]
    }
   ],
   "source": [
    "diff2=t2-t1\n",
    "\n",
    "print(diff2)\n",
    "print(type(diff2))"
   ]
  },
  {
   "cell_type": "markdown",
   "id": "37eeeb8b",
   "metadata": {},
   "source": [
    "## datetime 오브텍트로 변환하기 - to_datetime 메서드\n",
    "경우에 따라서는 시게열 데이터를 문자열로 저장해야 할 때도 있습니다. 하지만 문자열은 시간 계산을 할 수 없기 때문에 datetime 오브젝트로 변환해 주어야 합니다. 이번에는 to_datetime 메서드를 사용하여 문자열을 datetime 오브젝트로 변환하는 방법에 대해 알아보겠습니다."
   ]
  },
  {
   "cell_type": "markdown",
   "id": "55c70e1a",
   "metadata": {},
   "source": [
    "### 문자열 datetime 오브젝트로 변환하기\n",
    "#### 1.\n",
    "먼저 ebola 데이터 집합을 불러옵니다."
   ]
  },
  {
   "cell_type": "code",
   "execution_count": 148,
   "id": "26519adf",
   "metadata": {},
   "outputs": [],
   "source": [
    "import pandas as pd\n",
    "import os\n",
    "\n",
    "ebola=pd.read_csv('data/country_timeseries.csv')"
   ]
  },
  {
   "cell_type": "markdown",
   "id": "7178f2c7",
   "metadata": {},
   "source": [
    "#### 2.\n",
    "ebola 데이터프레임을 보면 문자열로 지정된 Date 열이 있는 것을 알 수 있습니다."
   ]
  },
  {
   "cell_type": "code",
   "execution_count": 149,
   "id": "4f4220af",
   "metadata": {},
   "outputs": [
    {
     "name": "stdout",
     "output_type": "stream",
     "text": [
      "<class 'pandas.core.frame.DataFrame'>\n",
      "RangeIndex: 122 entries, 0 to 121\n",
      "Data columns (total 18 columns):\n",
      " #   Column               Non-Null Count  Dtype  \n",
      "---  ------               --------------  -----  \n",
      " 0   Date                 122 non-null    object \n",
      " 1   Day                  122 non-null    int64  \n",
      " 2   Cases_Guinea         93 non-null     float64\n",
      " 3   Cases_Liberia        83 non-null     float64\n",
      " 4   Cases_SierraLeone    87 non-null     float64\n",
      " 5   Cases_Nigeria        38 non-null     float64\n",
      " 6   Cases_Senegal        25 non-null     float64\n",
      " 7   Cases_UnitedStates   18 non-null     float64\n",
      " 8   Cases_Spain          16 non-null     float64\n",
      " 9   Cases_Mali           12 non-null     float64\n",
      " 10  Deaths_Guinea        92 non-null     float64\n",
      " 11  Deaths_Liberia       81 non-null     float64\n",
      " 12  Deaths_SierraLeone   87 non-null     float64\n",
      " 13  Deaths_Nigeria       38 non-null     float64\n",
      " 14  Deaths_Senegal       22 non-null     float64\n",
      " 15  Deaths_UnitedStates  18 non-null     float64\n",
      " 16  Deaths_Spain         16 non-null     float64\n",
      " 17  Deaths_Mali          12 non-null     float64\n",
      "dtypes: float64(16), int64(1), object(1)\n",
      "memory usage: 17.3+ KB\n",
      "None\n"
     ]
    }
   ],
   "source": [
    "print(ebola.info())"
   ]
  },
  {
   "cell_type": "markdown",
   "id": "a7faa593",
   "metadata": {},
   "source": [
    "#### 3.\n",
    "to_datetime 메서드를 사용하면 Date 열의 자료형을 datetime 오브젝트로 변환할 수 있습니다. 다음과 같이 to_datetime 메서드를 사용하여 Date 열의 자료형을 datetime 오르젝트로 변환한 다음 ebola 데이터프레임에 새로운 열로 추가합니다."
   ]
  },
  {
   "cell_type": "code",
   "execution_count": 150,
   "id": "558d49ad",
   "metadata": {},
   "outputs": [
    {
     "name": "stdout",
     "output_type": "stream",
     "text": [
      "<class 'pandas.core.frame.DataFrame'>\n",
      "RangeIndex: 122 entries, 0 to 121\n",
      "Data columns (total 19 columns):\n",
      " #   Column               Non-Null Count  Dtype         \n",
      "---  ------               --------------  -----         \n",
      " 0   Date                 122 non-null    object        \n",
      " 1   Day                  122 non-null    int64         \n",
      " 2   Cases_Guinea         93 non-null     float64       \n",
      " 3   Cases_Liberia        83 non-null     float64       \n",
      " 4   Cases_SierraLeone    87 non-null     float64       \n",
      " 5   Cases_Nigeria        38 non-null     float64       \n",
      " 6   Cases_Senegal        25 non-null     float64       \n",
      " 7   Cases_UnitedStates   18 non-null     float64       \n",
      " 8   Cases_Spain          16 non-null     float64       \n",
      " 9   Cases_Mali           12 non-null     float64       \n",
      " 10  Deaths_Guinea        92 non-null     float64       \n",
      " 11  Deaths_Liberia       81 non-null     float64       \n",
      " 12  Deaths_SierraLeone   87 non-null     float64       \n",
      " 13  Deaths_Nigeria       38 non-null     float64       \n",
      " 14  Deaths_Senegal       22 non-null     float64       \n",
      " 15  Deaths_UnitedStates  18 non-null     float64       \n",
      " 16  Deaths_Spain         16 non-null     float64       \n",
      " 17  Deaths_Mali          12 non-null     float64       \n",
      " 18  date_dt              122 non-null    datetime64[ns]\n",
      "dtypes: datetime64[ns](1), float64(16), int64(1), object(1)\n",
      "memory usage: 18.2+ KB\n",
      "None\n"
     ]
    }
   ],
   "source": [
    "ebola['date_dt']=pd.to_datetime(ebola['Date'])\n",
    "print(ebola.info())"
   ]
  },
  {
   "cell_type": "markdown",
   "id": "bbe0d9ee",
   "metadata": {},
   "source": [
    "#### 4.\n",
    "to_datetime 메서드를 좀 더 자세히 알아볼까요? 시간 형식 지정자와 기호를 적절히 조합하여 format 인자에 전달하면 그 형식에 맞게 정리된 datetime 오브젝트를 얻을 수 있습니다. 다음 실습을 참고하여 format 인자의 사용법을 꼭 익혀두세요."
   ]
  },
  {
   "cell_type": "code",
   "execution_count": 151,
   "id": "7a71e43f",
   "metadata": {},
   "outputs": [
    {
     "name": "stdout",
     "output_type": "stream",
     "text": [
      "  order_day   date_dt1   date_dt2   date_dt3\n",
      "0  01/01/15 2015-01-01 2015-01-01 2001-01-15\n",
      "1  02/01/15 2015-01-02 2015-02-01 2002-01-15\n",
      "2  03/01/15 2015-01-03 2015-03-01 2003-01-15\n"
     ]
    }
   ],
   "source": [
    "test_df1=pd.DataFrame({'order_day':['01/01/15','02/01/15','03/01/15']})\n",
    "\n",
    "test_df1['date_dt1']=pd.to_datetime(test_df1['order_day'],format='%d/%m/%y')\n",
    "test_df1['date_dt2']=pd.to_datetime(test_df1['order_day'],format='%m/%d/%y')\n",
    "test_df1['date_dt3']=pd.to_datetime(test_df1['order_day'],format='%y/%m/%d')\n",
    "\n",
    "print(test_df1)"
   ]
  },
  {
   "cell_type": "code",
   "execution_count": 152,
   "id": "9a10ab11",
   "metadata": {},
   "outputs": [
    {
     "name": "stdout",
     "output_type": "stream",
     "text": [
      "  order_day    date_dt\n",
      "0  01-01-15 2015-01-01\n",
      "1  02-01-15 2015-01-02\n",
      "2  03-01-15 2015-01-03\n"
     ]
    }
   ],
   "source": [
    "test_df2=pd.DataFrame({'order_day':['01-01-15','02-01-15','03-01-15']})\n",
    "test_df2['date_dt']=pd.to_datetime(test_df2['order_day'],format='%d-%m-%y')\n",
    "\n",
    "print(test_df2)"
   ]
  },
  {
   "cell_type": "markdown",
   "id": "ab9e25e5",
   "metadata": {},
   "source": [
    "## 시간 형식 지정자\n",
    "다음은 시간 형식 지정자를 정리한 표입니다. 이 장의 실습에서 종종 사용하므로 한 번 읽고 넘어가기 바랍니다.\n",
    "### 시간 형식 지정자\n",
    "- 시간 형식 지정자 : 의미 : 결과\n",
    "- %a : 요일 출력 : Sun,Mon,...Set\n",
    "- %A : 요일 출력(긴 이름) : Sunday,Monday, ...,Saturday\n",
    "- %w : 요일 출력(숫자,0부터 일요일) : 0,1,....,6\n",
    "- %d : 날짜 출력(2자리로 표시) : 01,02,....,31\n",
    "- %b : 월 출력 : Jan,Feb,....Dec\n",
    "- %B : 월 출력(긴 이름) : January,February,...December\n",
    "- %m : 월 출력(숫자) : 01,02,...,12\n",
    "- %y : 년 출력(2자리로 표시) : 00,01,...,99\n",
    "- %Y : 년 출력(4자리로 표시) : 0001,0002,...,2013,2014,...,9999\n",
    "- %H : 시간 출력(24시간) : 01,02,...,23\n",
    "- %I : 시간 출력(12시간) : 01,02,...,12\n",
    "- %p : AM 또는 PM 출력 : AM,PM\n",
    "- %M : 분 출력(2자리로 표시) : 00,01,...,59\n",
    "- %S : 초 출력(2자리로 표시) : 00,01,...,59\n",
    "- %f : 마이크로초 출력 : 000000,000001,...,999999\n",
    "- %z : UTC 차이 출력(+HHMM이나 -HHMM형태) : (None),+0000,-0400,+1030\n",
    "- %Z : 기준 지역 이름 출력 : (None),UTC,EST,CST\n",
    "- %j : 올해의 지난 일 수 출력(1일,2일,...) : 001,002,...,366\n",
    "- %U : 올해의 지난 주 수 출력(1주,2주,...) : 00,01,...,53\n",
    "- %c : 날짜와 시간 출력 : Tue Aug 16 21:30:00 1988\n",
    "- %x : 날짜 출력 : 08/16/88(None);08/16/1988\n",
    "- %X : 시간 출력 : 21:30:00\n",
    "- %G : 년 출력(ISO 8601 형식) : 0001,0002,...,2013,2014,...,9999\n",
    "- %u : 요일 출력(ISO 8601 형식) : 1,2,...,7\n",
    "- %V : 올해의 지난 주 수 출력(ISO 8601 형식) : 01,02,...,53"
   ]
  },
  {
   "cell_type": "markdown",
   "id": "975503fe",
   "metadata": {},
   "source": [
    "### 시계열 데이터를 구분해서 추출하고 싶어요\n",
    "now 메서드로 얻은 현재 시간의 시계열 데이터는 아주 정밀한 단위까지 시간을 표현합니다. 하지만 원하는 시계열 데이터의 시간 요소가 연도, 월, 일뿐이라면 now 메서드로 얻은 시계열 데이터를 잘라내야 합니다. 다음은 strftime 메서드와 시간 형식 지정자를 이용하여 시게열 데이터를 잘라낸 것입니다."
   ]
  },
  {
   "cell_type": "code",
   "execution_count": 153,
   "id": "66c27973",
   "metadata": {},
   "outputs": [
    {
     "name": "stdout",
     "output_type": "stream",
     "text": [
      "2021-09-23 00:21:03.532169\n"
     ]
    }
   ],
   "source": [
    "now=datetime.now()\n",
    "print(now)"
   ]
  },
  {
   "cell_type": "code",
   "execution_count": 154,
   "id": "169098f5",
   "metadata": {},
   "outputs": [
    {
     "name": "stdout",
     "output_type": "stream",
     "text": [
      "2021-09-23\n"
     ]
    }
   ],
   "source": [
    "nowDate=now.strftime('%Y-%m-%d')\n",
    "print(nowDate)"
   ]
  },
  {
   "cell_type": "code",
   "execution_count": 155,
   "id": "c188b1e4",
   "metadata": {},
   "outputs": [
    {
     "name": "stdout",
     "output_type": "stream",
     "text": [
      "00:21:03\n"
     ]
    }
   ],
   "source": [
    "nowTime=now.strftime('%H:%M:%S')\n",
    "print(nowTime)"
   ]
  },
  {
   "cell_type": "code",
   "execution_count": 156,
   "id": "484bafdc",
   "metadata": {},
   "outputs": [
    {
     "name": "stdout",
     "output_type": "stream",
     "text": [
      "2021-09-23 00:21:03\n"
     ]
    }
   ],
   "source": [
    "nowDatetime=now.strftime('%Y-%m-%d %H:%M:%S')\n",
    "print(nowDatetime)"
   ]
  },
  {
   "cell_type": "markdown",
   "id": "62e61917",
   "metadata": {},
   "source": [
    "## datetime 오브젝트로 변환하기 - read_csv 메서드\n",
    "앞에서는 to_datetime 메서드를 사용하여 문자열로 저장되어 있는 Date 열을 datetime오브젝트로 변환했습니다. 하지만 datetime 오브젝트로 변환하려는 열을 지정하여 데이터 집합을 불러오는 것이 더 간단합니다. 다음 실습을 통해 알아보겠습니다.\n",
    "### datetime 오브젝트로 변환하려는 열을 지정하여 데이터 집합 불러오기\n",
    "#### 1. \n",
    "다음은 read_csv 메서드의 parse_dates 인자에 datetime 오브젝트로 변환하고자 하는 열의 이름을 전달하여 데이터 집합을 불러온 것입니다. 결과를 보면 Date 열이 문자열이 아니라 datetime 오브젝트라는 것을 확인할 수 있습니다."
   ]
  },
  {
   "cell_type": "code",
   "execution_count": 157,
   "id": "e22838cd",
   "metadata": {},
   "outputs": [
    {
     "name": "stdout",
     "output_type": "stream",
     "text": [
      "<class 'pandas.core.frame.DataFrame'>\n",
      "RangeIndex: 122 entries, 0 to 121\n",
      "Data columns (total 18 columns):\n",
      " #   Column               Non-Null Count  Dtype         \n",
      "---  ------               --------------  -----         \n",
      " 0   Date                 122 non-null    datetime64[ns]\n",
      " 1   Day                  122 non-null    int64         \n",
      " 2   Cases_Guinea         93 non-null     float64       \n",
      " 3   Cases_Liberia        83 non-null     float64       \n",
      " 4   Cases_SierraLeone    87 non-null     float64       \n",
      " 5   Cases_Nigeria        38 non-null     float64       \n",
      " 6   Cases_Senegal        25 non-null     float64       \n",
      " 7   Cases_UnitedStates   18 non-null     float64       \n",
      " 8   Cases_Spain          16 non-null     float64       \n",
      " 9   Cases_Mali           12 non-null     float64       \n",
      " 10  Deaths_Guinea        92 non-null     float64       \n",
      " 11  Deaths_Liberia       81 non-null     float64       \n",
      " 12  Deaths_SierraLeone   87 non-null     float64       \n",
      " 13  Deaths_Nigeria       38 non-null     float64       \n",
      " 14  Deaths_Senegal       22 non-null     float64       \n",
      " 15  Deaths_UnitedStates  18 non-null     float64       \n",
      " 16  Deaths_Spain         16 non-null     float64       \n",
      " 17  Deaths_Mali          12 non-null     float64       \n",
      "dtypes: datetime64[ns](1), float64(16), int64(1)\n",
      "memory usage: 17.3 KB\n",
      "None\n"
     ]
    }
   ],
   "source": [
    "ebola1 =pd.read_csv('data/country_timeseries.csv',parse_dates=['Date'])\n",
    "print(ebola1.info())"
   ]
  },
  {
   "cell_type": "markdown",
   "id": "a72f56c1",
   "metadata": {},
   "source": [
    "## datetime 오브젝트에서 날짜 정보 추출하기\n",
    "datetime 오브젝트에 년,월,일과 같은 날짜 정보를 따로 저장하고 있는 속성이 이미 준비되어 있습니다. 다음 실습을 통해 datetime 오브젝트에서 날짜 정보를 하나씩 추출해 보겠습니다\n",
    "### datetime 오브젝트에서 날짜 정보 추출하기\n",
    "#### 1.\n",
    "다음은 문자열로 저장된 날짜를 시리즈에 담아 datetime 오브젝트로 변환한 것입니다."
   ]
  },
  {
   "cell_type": "code",
   "execution_count": 158,
   "id": "a03833b9",
   "metadata": {},
   "outputs": [
    {
     "name": "stdout",
     "output_type": "stream",
     "text": [
      "0   2018-05-16\n",
      "1   2018-05-17\n",
      "2   2018-05-18\n",
      "dtype: datetime64[ns]\n"
     ]
    }
   ],
   "source": [
    "date_series=pd.Series(['2018-05-16','2018-05-17','2018-05-18'])\n",
    "d1=pd.to_datetime(date_series)\n",
    "print(d1)"
   ]
  },
  {
   "cell_type": "markdown",
   "id": "76d8c1c0",
   "metadata": {},
   "source": [
    "#### 2.\n",
    "datetime 오브젝트의 year,month,day 속성을 이용하면 년,월,일 정보를 바로 추출할 수 있습니다."
   ]
  },
  {
   "cell_type": "code",
   "execution_count": 159,
   "id": "6c0df856",
   "metadata": {},
   "outputs": [
    {
     "name": "stdout",
     "output_type": "stream",
     "text": [
      "2018\n"
     ]
    }
   ],
   "source": [
    "print(d1[0].year)"
   ]
  },
  {
   "cell_type": "code",
   "execution_count": 160,
   "id": "da81a50c",
   "metadata": {},
   "outputs": [
    {
     "name": "stdout",
     "output_type": "stream",
     "text": [
      "5\n"
     ]
    }
   ],
   "source": [
    "print(d1[0].month)"
   ]
  },
  {
   "cell_type": "code",
   "execution_count": 161,
   "id": "c14b3cf4",
   "metadata": {},
   "outputs": [
    {
     "name": "stdout",
     "output_type": "stream",
     "text": [
      "16\n"
     ]
    }
   ],
   "source": [
    "print(d1[0].day)"
   ]
  },
  {
   "cell_type": "markdown",
   "id": "5c2609b6",
   "metadata": {},
   "source": [
    "## dt 접근자 사용하기\n",
    "문자열을 처리하려면 str 접근자를 사용한 다음 문자열 속성이나 메서드를 사용해야 했습니다. datetime 오브젝트도 마찬가지로 dt 접근자를 사용하면 datetime 속성이나 메서드를 사용하여 시계열 데이터를 처리할 수 있습니다.\n",
    "### dt 접근자로 시계열 데이터 정리하기\n",
    "#### 1.\n",
    "먼저 ebola 데이터 집합을 불러온 다음 Date 열을 datetime 오브젝트로 변환하여 새로운 열로 추가합니다."
   ]
  },
  {
   "cell_type": "code",
   "execution_count": 162,
   "id": "7d5ec8de",
   "metadata": {},
   "outputs": [],
   "source": [
    "ebola=pd.read_csv('data/country_timeseries.csv')\n",
    "ebola['date_dt']=pd.to_datetime(ebola['Date'])"
   ]
  },
  {
   "cell_type": "markdown",
   "id": "f6c0aaa9",
   "metadata": {},
   "source": [
    "#### 2.\n",
    "다음은 dt 접근자를 사용하지 않고 인덱스가 3인 데이터의 년,월,일 데이터를 추출한 것입니다."
   ]
  },
  {
   "cell_type": "code",
   "execution_count": 163,
   "id": "758c36ac",
   "metadata": {},
   "outputs": [
    {
     "name": "stdout",
     "output_type": "stream",
     "text": [
      "         Date    date_dt\n",
      "0    1/5/2015 2015-01-05\n",
      "1    1/4/2015 2015-01-04\n",
      "2    1/3/2015 2015-01-03\n",
      "3    1/2/2015 2015-01-02\n",
      "4  12/31/2014 2014-12-31\n"
     ]
    }
   ],
   "source": [
    "print(ebola[['Date', 'date_dt']].head())"
   ]
  },
  {
   "cell_type": "code",
   "execution_count": 164,
   "id": "6a17ead2",
   "metadata": {},
   "outputs": [
    {
     "name": "stdout",
     "output_type": "stream",
     "text": [
      "2015\n"
     ]
    }
   ],
   "source": [
    "print(ebola['date_dt'][3].year)"
   ]
  },
  {
   "cell_type": "code",
   "execution_count": 165,
   "id": "bb17d3c4",
   "metadata": {},
   "outputs": [
    {
     "name": "stdout",
     "output_type": "stream",
     "text": [
      "1\n"
     ]
    }
   ],
   "source": [
    "print(ebola['date_dt'][3].month)"
   ]
  },
  {
   "cell_type": "code",
   "execution_count": 166,
   "id": "2528032b",
   "metadata": {},
   "outputs": [
    {
     "name": "stdout",
     "output_type": "stream",
     "text": [
      "2\n"
     ]
    }
   ],
   "source": [
    "print(ebola['date_dt'][3].day)"
   ]
  },
  {
   "cell_type": "markdown",
   "id": "7af889f1",
   "metadata": {},
   "source": [
    "#### 3.\n",
    "과정 2와 같은 방법은 date_dt 열의 특정 데이터를 인덱스로 접근해야 하기 때문에 불편합니다. 다음은 dt 접근자로 date_dt 열에 한 번에 접근한 다음 year 속성을 이용하여 연도값을 추출한 것입니다. 추출한 연도값은 ebola 데이터프레임의 새로운 열로 추가했습니다."
   ]
  },
  {
   "cell_type": "code",
   "execution_count": 167,
   "id": "bc5f73ad",
   "metadata": {},
   "outputs": [
    {
     "name": "stdout",
     "output_type": "stream",
     "text": [
      "         Date    date_dt  year\n",
      "0    1/5/2015 2015-01-05  2015\n",
      "1    1/4/2015 2015-01-04  2015\n",
      "2    1/3/2015 2015-01-03  2015\n",
      "3    1/2/2015 2015-01-02  2015\n",
      "4  12/31/2014 2014-12-31  2014\n"
     ]
    }
   ],
   "source": [
    "ebola['year']=ebola['date_dt'].dt.year\n",
    "print(ebola[['Date','date_dt','year']].head())"
   ]
  },
  {
   "cell_type": "markdown",
   "id": "15ba8679",
   "metadata": {},
   "source": [
    "#### 4.\n",
    "다음은 과정 3을 응용하여 월,일 데이터를 한 번에 추출해서 새로운 열로 추가한 것입니다."
   ]
  },
  {
   "cell_type": "code",
   "execution_count": 168,
   "id": "d74f12ea",
   "metadata": {},
   "outputs": [
    {
     "name": "stdout",
     "output_type": "stream",
     "text": [
      "         Date    date_dt  year  month  day\n",
      "0    1/5/2015 2015-01-05  2015      1    5\n",
      "1    1/4/2015 2015-01-04  2015      1    4\n",
      "2    1/3/2015 2015-01-03  2015      1    3\n",
      "3    1/2/2015 2015-01-02  2015      1    2\n",
      "4  12/31/2014 2014-12-31  2014     12   31\n"
     ]
    }
   ],
   "source": [
    "ebola['month'],ebola['day']=(ebola['date_dt'].dt.month,ebola['date_dt'].dt.day)\n",
    "print(ebola[['Date','date_dt','year','month','day']].head())"
   ]
  },
  {
   "cell_type": "markdown",
   "id": "a34c7a88",
   "metadata": {},
   "source": [
    "#### 5.\n",
    "다음은 ebola 데이터프레임에 새로 추가한 date_dt, year, month,day 열의 자료형을 출력한 것입니다. date_dt열은 datetime 오브젝트이고 나머지는 정수형이라는 것을 알 수 있습니다."
   ]
  },
  {
   "cell_type": "code",
   "execution_count": 169,
   "id": "858339d7",
   "metadata": {},
   "outputs": [
    {
     "name": "stdout",
     "output_type": "stream",
     "text": [
      "<class 'pandas.core.frame.DataFrame'>\n",
      "RangeIndex: 122 entries, 0 to 121\n",
      "Data columns (total 22 columns):\n",
      " #   Column               Non-Null Count  Dtype         \n",
      "---  ------               --------------  -----         \n",
      " 0   Date                 122 non-null    object        \n",
      " 1   Day                  122 non-null    int64         \n",
      " 2   Cases_Guinea         93 non-null     float64       \n",
      " 3   Cases_Liberia        83 non-null     float64       \n",
      " 4   Cases_SierraLeone    87 non-null     float64       \n",
      " 5   Cases_Nigeria        38 non-null     float64       \n",
      " 6   Cases_Senegal        25 non-null     float64       \n",
      " 7   Cases_UnitedStates   18 non-null     float64       \n",
      " 8   Cases_Spain          16 non-null     float64       \n",
      " 9   Cases_Mali           12 non-null     float64       \n",
      " 10  Deaths_Guinea        92 non-null     float64       \n",
      " 11  Deaths_Liberia       81 non-null     float64       \n",
      " 12  Deaths_SierraLeone   87 non-null     float64       \n",
      " 13  Deaths_Nigeria       38 non-null     float64       \n",
      " 14  Deaths_Senegal       22 non-null     float64       \n",
      " 15  Deaths_UnitedStates  18 non-null     float64       \n",
      " 16  Deaths_Spain         16 non-null     float64       \n",
      " 17  Deaths_Mali          12 non-null     float64       \n",
      " 18  date_dt              122 non-null    datetime64[ns]\n",
      " 19  year                 122 non-null    int64         \n",
      " 20  month                122 non-null    int64         \n",
      " 21  day                  122 non-null    int64         \n",
      "dtypes: datetime64[ns](1), float64(16), int64(4), object(1)\n",
      "memory usage: 21.1+ KB\n",
      "None\n"
     ]
    }
   ],
   "source": [
    "print(ebola.info())"
   ]
  },
  {
   "cell_type": "markdown",
   "id": "86da64f8",
   "metadata": {},
   "source": [
    "#  12-2 사례별 시계열 데이터 계산하기\n",
    "### 에볼라 최초 발병일 계산하기\n",
    "#### 1.\n",
    "ebola 데이터프레임의 마지막 행과 열을 5개씩만 살펴보겠습니다. ebola 데이터프레임은 데이터가 시간 역순으로 정렬되어 있습니다. 즉, 시간 순으로 데이터를 살펴보려면 데이터프레임의 마지막부터 살펴봐야 합니다."
   ]
  },
  {
   "cell_type": "code",
   "execution_count": 170,
   "id": "479e57e4",
   "metadata": {},
   "outputs": [
    {
     "name": "stdout",
     "output_type": "stream",
     "text": [
      "          Date  Day  Cases_Guinea  Cases_Liberia  Cases_SierraLeone\n",
      "117  3/27/2014    5         103.0            8.0                6.0\n",
      "118  3/26/2014    4          86.0            NaN                NaN\n",
      "119  3/25/2014    3          86.0            NaN                NaN\n",
      "120  3/24/2014    2          86.0            NaN                NaN\n",
      "121  3/22/2014    0          49.0            NaN                NaN\n"
     ]
    }
   ],
   "source": [
    "print(ebola.iloc[-5:,:5])"
   ]
  },
  {
   "cell_type": "markdown",
   "id": "14858221",
   "metadata": {},
   "source": [
    "#### 2.\n",
    "121행에서 볼 수 있듯이 에볼라가 발생하기 시작한 날은 2014년 03월 22일입니다. 다음은 min. 메서드를 사용하여 에볼라의 최초 발병일을 찾은 것입니다."
   ]
  },
  {
   "cell_type": "code",
   "execution_count": 171,
   "id": "0772528f",
   "metadata": {},
   "outputs": [
    {
     "name": "stdout",
     "output_type": "stream",
     "text": [
      "2014-03-22 00:00:00\n",
      "<class 'pandas._libs.tslibs.timestamps.Timestamp'>\n"
     ]
    }
   ],
   "source": [
    "print(ebola['date_dt'].min())\n",
    "print(type(ebola['date_dt'].min()))"
   ]
  },
  {
   "cell_type": "markdown",
   "id": "5a13a515",
   "metadata": {},
   "source": [
    "#### 3.\n",
    "에볼라의 최초 발병일을 알아냈으니 Date 열에서 에볼라의 최초 발병일을 빼면 에볼라의 진행 정도를 알 수 있습니다."
   ]
  },
  {
   "cell_type": "code",
   "execution_count": 172,
   "id": "253c086e",
   "metadata": {},
   "outputs": [
    {
     "name": "stdout",
     "output_type": "stream",
     "text": [
      "         Date  Day outbreak_d\n",
      "0    1/5/2015  289   289 days\n",
      "1    1/4/2015  288   288 days\n",
      "2    1/3/2015  287   287 days\n",
      "3    1/2/2015  286   286 days\n",
      "4  12/31/2014  284   284 days\n"
     ]
    }
   ],
   "source": [
    "ebola['outbreak_d']=ebola['date_dt']-ebola['date_dt'].min()\n",
    "print(ebola[['Date','Day','outbreak_d']].head())"
   ]
  },
  {
   "cell_type": "markdown",
   "id": "a85af87a",
   "metadata": {},
   "source": [
    "### 파산한 은행의 개수 계산하기\n",
    "이번에는 파산한 은행 데이터를 불러와 분기별로 파산한 은행이 얼마나 되는지 계산해 보겠습니다. 그리고 이번에는 그래프로도 시각화해 보겠습니다.\n",
    "#### 1. \n",
    "다음은 파산한 은행 데이터 집합을 불러온 것입니다. banks 데이터프레임의 앞부분을 살펴보면 Closing Date, Updated Date 열의 데이터 자료형이 시계열 데이터라는 것을 알 수 있습니다."
   ]
  },
  {
   "cell_type": "code",
   "execution_count": 173,
   "id": "d0ed039f",
   "metadata": {},
   "outputs": [
    {
     "name": "stdout",
     "output_type": "stream",
     "text": [
      "                                           Bank Name         City  ST   CERT  \\\n",
      "0                Washington Federal Bank for Savings      Chicago  IL  30570   \n",
      "1    The Farmers and Merchants State Bank of Argonia      Argonia  KS  17719   \n",
      "2                                Fayette County Bank   Saint Elmo  IL   1802   \n",
      "3  Guaranty Bank, (d/b/a BestBank in Georgia & Mi...    Milwaukee  WI  30003   \n",
      "4                                     First NBC Bank  New Orleans  LA  58302   \n",
      "\n",
      "                 Acquiring Institution Closing Date Updated Date  \n",
      "0                   Royal Savings Bank    15-Dec-17    20-Dec-17  \n",
      "1                          Conway Bank    13-Oct-17    20-Oct-17  \n",
      "2            United Fidelity Bank, fsb    26-May-17    26-Jul-17  \n",
      "3  First-Citizens Bank & Trust Company     5-May-17    26-Jul-17  \n",
      "4                         Whitney Bank    28-Apr-17     5-Dec-17  \n"
     ]
    }
   ],
   "source": [
    "banks=pd.read_csv('data/banklist.csv')\n",
    "print(banks.head())"
   ]
  },
  {
   "cell_type": "markdown",
   "id": "7468f36c",
   "metadata": {},
   "source": [
    "#### 2.\n",
    "Closing date,Update Date 열의 데이터 자료형은 문자열입니다. 다음은 read_csv 메서드의 parse_dates 속성을 이용하여 문자열로 저장된 두 열을 datetime 오브젝트로 변환하여 불러온 것입니다."
   ]
  },
  {
   "cell_type": "code",
   "execution_count": 174,
   "id": "8db29192",
   "metadata": {},
   "outputs": [
    {
     "name": "stdout",
     "output_type": "stream",
     "text": [
      "<class 'pandas.core.frame.DataFrame'>\n",
      "RangeIndex: 555 entries, 0 to 554\n",
      "Data columns (total 7 columns):\n",
      " #   Column                 Non-Null Count  Dtype \n",
      "---  ------                 --------------  ----- \n",
      " 0   Bank Name              555 non-null    object\n",
      " 1   City                   555 non-null    object\n",
      " 2   ST                     555 non-null    object\n",
      " 3   CERT                   555 non-null    int64 \n",
      " 4   Acquiring Institution  555 non-null    object\n",
      " 5   Closing Date           555 non-null    object\n",
      " 6   Updated Date           555 non-null    object\n",
      "dtypes: int64(1), object(6)\n",
      "memory usage: 30.5+ KB\n",
      "None\n"
     ]
    }
   ],
   "source": [
    "banks_no_dates=pd.read_csv('data/banklist.csv')\n",
    "print(banks_no_dates.info())"
   ]
  },
  {
   "cell_type": "code",
   "execution_count": 175,
   "id": "d5682994",
   "metadata": {},
   "outputs": [
    {
     "name": "stdout",
     "output_type": "stream",
     "text": [
      "<class 'pandas.core.frame.DataFrame'>\n",
      "RangeIndex: 555 entries, 0 to 554\n",
      "Data columns (total 7 columns):\n",
      " #   Column                 Non-Null Count  Dtype         \n",
      "---  ------                 --------------  -----         \n",
      " 0   Bank Name              555 non-null    object        \n",
      " 1   City                   555 non-null    object        \n",
      " 2   ST                     555 non-null    object        \n",
      " 3   CERT                   555 non-null    int64         \n",
      " 4   Acquiring Institution  555 non-null    object        \n",
      " 5   Closing Date           555 non-null    datetime64[ns]\n",
      " 6   Updated Date           555 non-null    datetime64[ns]\n",
      "dtypes: datetime64[ns](2), int64(1), object(4)\n",
      "memory usage: 30.5+ KB\n",
      "None\n"
     ]
    }
   ],
   "source": [
    "banks=pd.read_csv('data/banklist.csv',parse_dates=[5,6])\n",
    "print(banks.info())"
   ]
  },
  {
   "cell_type": "markdown",
   "id": "a6b16ae1",
   "metadata": {},
   "source": [
    "#### 3.\n",
    "dt 접근자와 quater 속성을 이용하면 은행이 파산한 분기를 알 수 있습니다. 다음은 dt 접근자와 year,quarter 속성을 이용하여 은행이 파산한 연도, 분기를 새로운 열로 추가한 것입니다."
   ]
  },
  {
   "cell_type": "code",
   "execution_count": 176,
   "id": "81b2a3ff",
   "metadata": {},
   "outputs": [
    {
     "name": "stdout",
     "output_type": "stream",
     "text": [
      "                                           Bank Name         City  ST   CERT  \\\n",
      "0                Washington Federal Bank for Savings      Chicago  IL  30570   \n",
      "1    The Farmers and Merchants State Bank of Argonia      Argonia  KS  17719   \n",
      "2                                Fayette County Bank   Saint Elmo  IL   1802   \n",
      "3  Guaranty Bank, (d/b/a BestBank in Georgia & Mi...    Milwaukee  WI  30003   \n",
      "4                                     First NBC Bank  New Orleans  LA  58302   \n",
      "\n",
      "                 Acquiring Institution Closing Date Updated Date  \\\n",
      "0                   Royal Savings Bank   2017-12-15   2017-12-20   \n",
      "1                          Conway Bank   2017-10-13   2017-10-20   \n",
      "2            United Fidelity Bank, fsb   2017-05-26   2017-07-26   \n",
      "3  First-Citizens Bank & Trust Company   2017-05-05   2017-07-26   \n",
      "4                         Whitney Bank   2017-04-28   2017-12-05   \n",
      "\n",
      "   closing_quarter  closing_year  \n",
      "0                4          2017  \n",
      "1                4          2017  \n",
      "2                2          2017  \n",
      "3                2          2017  \n",
      "4                2          2017  \n"
     ]
    }
   ],
   "source": [
    "banks['closing_quarter'],banks['closing_year']=(banks['Closing Date'].dt.quarter, banks['Closing Date'].dt.year)\n",
    "\n",
    "print(banks.head())"
   ]
  },
  {
   "cell_type": "markdown",
   "id": "9a70b500",
   "metadata": {},
   "source": [
    "#### 4.\n",
    "이제 연도별로 파산한 은행이 얼마나 되는지를 알아볼까요? grouby 메서드를 사용하면 연도별로 파산한 은행의 개수를 구할 수 있습니다."
   ]
  },
  {
   "cell_type": "code",
   "execution_count": 177,
   "id": "9e54f8c3",
   "metadata": {},
   "outputs": [
    {
     "name": "stdout",
     "output_type": "stream",
     "text": [
      "closing_year\n",
      "2000      2\n",
      "2001      4\n",
      "2002     11\n",
      "2003      3\n",
      "2004      4\n",
      "2007      3\n",
      "2008     25\n",
      "2009    140\n",
      "2010    157\n",
      "2011     92\n",
      "2012     51\n",
      "2013     24\n",
      "2014     18\n",
      "2015      8\n",
      "2016      5\n",
      "2017      8\n",
      "dtype: int64\n"
     ]
    }
   ],
   "source": [
    "closing_year=banks.groupby(['closing_year']).size()\n",
    "print(closing_year)"
   ]
  },
  {
   "cell_type": "markdown",
   "id": "71701d12",
   "metadata": {},
   "source": [
    "#### 5.\n",
    "각 연도별, 분기별로 파산한 은행의 개수도 알아보겠습니다. 다음은 banks 데이터프레임을 연도별로 그룹화한 다음 다시 분기별로 그룹화하여 출력한 것입니다."
   ]
  },
  {
   "cell_type": "code",
   "execution_count": 178,
   "id": "09ceae7b",
   "metadata": {},
   "outputs": [
    {
     "name": "stdout",
     "output_type": "stream",
     "text": [
      "closing_year  closing_quarter\n",
      "2000          4                   2\n",
      "2001          1                   1\n",
      "              2                   1\n",
      "              3                   2\n",
      "2002          1                   6\n",
      "              2                   2\n",
      "              3                   1\n",
      "              4                   2\n",
      "2003          1                   1\n",
      "              2                   1\n",
      "              4                   1\n",
      "2004          1                   3\n",
      "              2                   1\n",
      "2007          1                   1\n",
      "              3                   1\n",
      "              4                   1\n",
      "2008          1                   2\n",
      "              2                   2\n",
      "              3                   9\n",
      "              4                  12\n",
      "2009          1                  21\n",
      "              2                  24\n",
      "              3                  50\n",
      "              4                  45\n",
      "2010          1                  41\n",
      "              2                  45\n",
      "              3                  41\n",
      "              4                  30\n",
      "2011          1                  26\n",
      "              2                  22\n",
      "              3                  26\n",
      "              4                  18\n",
      "2012          1                  16\n",
      "              2                  15\n",
      "              3                  12\n",
      "              4                   8\n",
      "2013          1                   4\n",
      "              2                  12\n",
      "              3                   6\n",
      "              4                   2\n",
      "2014          1                   5\n",
      "              2                   7\n",
      "              3                   2\n",
      "              4                   4\n",
      "2015          1                   4\n",
      "              2                   1\n",
      "              3                   1\n",
      "              4                   2\n",
      "2016          1                   1\n",
      "              2                   2\n",
      "              3                   2\n",
      "2017          1                   3\n",
      "              2                   3\n",
      "              4                   2\n",
      "dtype: int64\n"
     ]
    }
   ],
   "source": [
    "closing_year_q=banks.groupby(['closing_year','closing_quarter']).size()\n",
    "print(closing_year_q)"
   ]
  },
  {
   "cell_type": "markdown",
   "id": "d7ed1ddb",
   "metadata": {},
   "source": [
    "#### 6.\n",
    "다음은 과정 5에서 얻은 값으로 그래프를 그린 것입니다."
   ]
  },
  {
   "cell_type": "code",
   "execution_count": 179,
   "id": "633347e8",
   "metadata": {},
   "outputs": [
    {
     "data": {
      "image/png": "[encoded data removed]",
      "text/plain": [
       "<Figure size 432x288 with 1 Axes>"
      ]
     },
     "metadata": {
      "needs_background": "light"
     },
     "output_type": "display_data"
    },
    {
     "data": {
      "image/png": "[encoded data removed]",
      "text/plain": [
       "<Figure size 432x288 with 1 Axes>"
      ]
     },
     "metadata": {
      "needs_background": "light"
     },
     "output_type": "display_data"
    }
   ],
   "source": [
    "import matplotlib.pyplot as plt\n",
    "\n",
    "fig, ax= plt.subplots()\n",
    "ax=closing_year.plot()\n",
    "plt.show()\n",
    "\n",
    "fig, ax=plt.subplots()\n",
    "ax=closing_year_q.plot()\n",
    "plt.show()"
   ]
  },
  {
   "cell_type": "markdown",
   "id": "76484d93",
   "metadata": {},
   "source": [
    "### 테슬라 주식 데이터로 시간 계산하기\n",
    "이번에는 pandas=datareader 라이브러리를 이용하여 주식 데이터를 불러오겠습니다. 이라이브러리는 지금까지 설치한 적이 없는 라이브러리입니다. 다음을 아나콘다 프롬프트에 입력하여 pandas-datareader 라이브러리를 설치하세요."
   ]
  },
  {
   "cell_type": "code",
   "execution_count": 180,
   "id": "df1ff2a2",
   "metadata": {},
   "outputs": [
    {
     "name": "stdout",
     "output_type": "stream",
     "text": [
      "Requirement already satisfied: pandas-datareader in /home/dmlrkd67/anaconda3/lib/python3.8/site-packages (0.10.0)\n",
      "Requirement already satisfied: requests>=2.19.0 in /home/dmlrkd67/anaconda3/lib/python3.8/site-packages (from pandas-datareader) (2.25.1)\n",
      "Requirement already satisfied: pandas>=0.23 in /home/dmlrkd67/anaconda3/lib/python3.8/site-packages (from pandas-datareader) (1.2.4)\n",
      "Requirement already satisfied: lxml in /home/dmlrkd67/anaconda3/lib/python3.8/site-packages (from pandas-datareader) (4.6.3)\n",
      "Requirement already satisfied: python-dateutil>=2.7.3 in /home/dmlrkd67/anaconda3/lib/python3.8/site-packages (from pandas>=0.23->pandas-datareader) (2.8.1)\n",
      "Requirement already satisfied: pytz>=2017.3 in /home/dmlrkd67/anaconda3/lib/python3.8/site-packages (from pandas>=0.23->pandas-datareader) (2021.1)\n",
      "Requirement already satisfied: numpy>=1.16.5 in /home/dmlrkd67/anaconda3/lib/python3.8/site-packages (from pandas>=0.23->pandas-datareader) (1.20.1)\n",
      "Requirement already satisfied: six>=1.5 in /home/dmlrkd67/anaconda3/lib/python3.8/site-packages (from python-dateutil>=2.7.3->pandas>=0.23->pandas-datareader) (1.15.0)\n",
      "Requirement already satisfied: certifi>=2017.4.17 in /home/dmlrkd67/anaconda3/lib/python3.8/site-packages (from requests>=2.19.0->pandas-datareader) (2020.12.5)\n",
      "Requirement already satisfied: idna<3,>=2.5 in /home/dmlrkd67/anaconda3/lib/python3.8/site-packages (from requests>=2.19.0->pandas-datareader) (2.10)\n",
      "Requirement already satisfied: chardet<5,>=3.0.2 in /home/dmlrkd67/anaconda3/lib/python3.8/site-packages (from requests>=2.19.0->pandas-datareader) (4.0.0)\n",
      "Requirement already satisfied: urllib3<1.27,>=1.21.1 in /home/dmlrkd67/anaconda3/lib/python3.8/site-packages (from requests>=2.19.0->pandas-datareader) (1.26.4)\n",
      "Note: you may need to restart the kernel to use updated packages.\n"
     ]
    }
   ],
   "source": [
    "pip install pandas-datareader"
   ]
  },
  {
   "cell_type": "markdown",
   "id": "4e3c8b0d",
   "metadata": {},
   "source": [
    "#### 1.\n",
    "다음은 get_data_quanal 메서드에 TSLA라는 문자열을 전달하여 테슬라의 주식 데이터를 내려받은 다음 to_csv 메서드를 사용하여 data 폴더 안에 'tesla_stock_quandl.csv'라는 이름으로 저장한 것입니다."
   ]
  },
  {
   "cell_type": "code",
   "execution_count": 181,
   "id": "aa7a5a2d",
   "metadata": {},
   "outputs": [],
   "source": [
    "pd.core.common.is_list_like=pd.api.types.is_list_like\n",
    "import pandas_datareader as pdr\n",
    "\n",
    "tesla=pdr.get_data_quandl('TSLA', api_key = 'errmVW9g1S9WR_xmBHon')\n",
    "\n",
    "tesla.to_csv('data/tesla_stock_quandl.csv')"
   ]
  },
  {
   "cell_type": "markdown",
   "id": "9f6304bc",
   "metadata": {},
   "source": [
    "#### 2.\n",
    "tesla 데이터프레임의 Date 열은 문자열로 저장되어 있습니다. 즉,datetime 오브젝트로 자료형을 변환해야 시간 계산을 할 수 있습니다."
   ]
  },
  {
   "cell_type": "code",
   "execution_count": 182,
   "id": "72e15e73",
   "metadata": {},
   "outputs": [
    {
     "name": "stdout",
     "output_type": "stream",
     "text": [
      "              Open    High     Low   Close      Volume  ExDividend  \\\n",
      "Date                                                                 \n",
      "2018-03-27  304.00  304.27  277.18  279.18  13696168.0         0.0   \n",
      "2018-03-26  307.34  307.59  291.36  304.18   8324639.0         0.0   \n",
      "2018-03-23  311.25  311.61  300.45  301.54   6600538.0         0.0   \n",
      "2018-03-22  313.89  318.82  308.18  309.10   4914307.0         0.0   \n",
      "2018-03-21  310.25  322.44  310.19  316.53   5927881.0         0.0   \n",
      "\n",
      "            SplitRatio  AdjOpen  AdjHigh  AdjLow  AdjClose   AdjVolume  \n",
      "Date                                                                    \n",
      "2018-03-27         1.0   304.00   304.27  277.18    279.18  13696168.0  \n",
      "2018-03-26         1.0   307.34   307.59  291.36    304.18   8324639.0  \n",
      "2018-03-23         1.0   311.25   311.61  300.45    301.54   6600538.0  \n",
      "2018-03-22         1.0   313.89   318.82  308.18    309.10   4914307.0  \n",
      "2018-03-21         1.0   310.25   322.44  310.19    316.53   5927881.0  \n"
     ]
    }
   ],
   "source": [
    "print(tesla.head())"
   ]
  },
  {
   "cell_type": "markdown",
   "id": "c215beb2",
   "metadata": {},
   "source": [
    "#### 3.\n",
    "Date 열을 Datetime 형으로 변환하려면 read_csv 메서드로 데이터 집합을 불러올 때 parse_dates 인자에 Date 열을 전달하면 됩니다."
   ]
  },
  {
   "cell_type": "code",
   "execution_count": 183,
   "id": "83081158",
   "metadata": {},
   "outputs": [
    {
     "name": "stdout",
     "output_type": "stream",
     "text": [
      "<class 'pandas.core.frame.DataFrame'>\n",
      "RangeIndex: 377 entries, 0 to 376\n",
      "Data columns (total 13 columns):\n",
      " #   Column      Non-Null Count  Dtype         \n",
      "---  ------      --------------  -----         \n",
      " 0   Date        377 non-null    datetime64[ns]\n",
      " 1   Open        377 non-null    float64       \n",
      " 2   High        377 non-null    float64       \n",
      " 3   Low         377 non-null    float64       \n",
      " 4   Close       377 non-null    float64       \n",
      " 5   Volume      377 non-null    float64       \n",
      " 6   ExDividend  377 non-null    float64       \n",
      " 7   SplitRatio  377 non-null    float64       \n",
      " 8   AdjOpen     377 non-null    float64       \n",
      " 9   AdjHigh     377 non-null    float64       \n",
      " 10  AdjLow      377 non-null    float64       \n",
      " 11  AdjClose    377 non-null    float64       \n",
      " 12  AdjVolume   377 non-null    float64       \n",
      "dtypes: datetime64[ns](1), float64(12)\n",
      "memory usage: 38.4 KB\n",
      "None\n"
     ]
    }
   ],
   "source": [
    "tesla=pd.read_csv('data/tesla_stock_quandl.csv',parse_dates=[0])\n",
    "print(tesla.info())"
   ]
  },
  {
   "cell_type": "markdown",
   "id": "a930dad4",
   "metadata": {},
   "source": [
    "#### 4.\n",
    "Date 열의 자료형이 datetime 오브젝트로 변환되었습니다. 이제dt 접근자를 사용할 수 있습니다. 다음은 불린 추출로 2010년 6월의 데이터만 추출한 것입니다."
   ]
  },
  {
   "cell_type": "code",
   "execution_count": 184,
   "id": "e2fbf7af",
   "metadata": {},
   "outputs": [
    {
     "name": "stdout",
     "output_type": "stream",
     "text": [
      "Empty DataFrame\n",
      "Columns: [Date, Open, High, Low, Close, Volume, ExDividend, SplitRatio, AdjOpen, AdjHigh, AdjLow, AdjClose, AdjVolume]\n",
      "Index: []\n"
     ]
    }
   ],
   "source": [
    "print(tesla.loc[(tesla.Date.dt.year ==2010) & (tesla.Date.dt.month ==6)])"
   ]
  },
  {
   "cell_type": "markdown",
   "id": "173bff8f",
   "metadata": {},
   "source": [
    "## detetime 오브젝트와 인덱스 - DatetimeIndex\n",
    "지금까지의 실습은 대부분 데이터프레임의 행 번호를 인덱스로 사용했지만 datetime 오브젝트를 데이터프레임의 인덱스로 설정하면 원하는 시간의 데이터를 바로 추출할 수 있어 편리합니다. 이번에는 datetime 오브젝트를 인덱스로 지정하는 방법에 대해 알아보겠습니다.\n",
    "### datetime 오브젝트를 인덱스로 설정해 데이터 추출하기\n",
    "#### 1. \n",
    "계속해서 테슬라 주식 데이터를 사용하여 실습을 진행하겠습니다. 다음은 Date 열을 tesla 데이터프레임의 인덱스로 지정한 겁입니다."
   ]
  },
  {
   "cell_type": "code",
   "execution_count": 185,
   "id": "5ade217b",
   "metadata": {},
   "outputs": [
    {
     "name": "stdout",
     "output_type": "stream",
     "text": [
      "DatetimeIndex(['2018-03-27', '2018-03-26', '2018-03-23', '2018-03-22',\n",
      "               '2018-03-21', '2018-03-20', '2018-03-19', '2018-03-16',\n",
      "               '2018-03-15', '2018-03-14',\n",
      "               ...\n",
      "               '2016-10-07', '2016-10-06', '2016-10-05', '2016-10-04',\n",
      "               '2016-10-03', '2016-09-30', '2016-09-29', '2016-09-28',\n",
      "               '2016-09-27', '2016-09-26'],\n",
      "              dtype='datetime64[ns]', name='Date', length=377, freq=None)\n"
     ]
    }
   ],
   "source": [
    "tesla.index=tesla['Date']\n",
    "print(tesla.index)"
   ]
  },
  {
   "cell_type": "markdown",
   "id": "f4a1104e",
   "metadata": {},
   "source": [
    "#### 2.\n",
    "datetime 오브젝트를 인덱스로 지정하면 다음과 같은 방법으로 원하는 시간의 데이터를 바로 추출할 수 있습니다. 다음은 2015년의 데이터를 추출한 것입니다."
   ]
  },
  {
   "cell_type": "code",
   "execution_count": 186,
   "id": "9680582e",
   "metadata": {},
   "outputs": [
    {
     "name": "stdout",
     "output_type": "stream",
     "text": [
      "Empty DataFrame\n",
      "Columns: [Date, Open, High, Low, Close]\n",
      "Index: []\n"
     ]
    },
    {
     "name": "stderr",
     "output_type": "stream",
     "text": [
      "<ipython-input-186-e6026fbf2efd>:1: FutureWarning: Indexing a DataFrame with a datetimelike index using a single string to slice the rows, like `frame[string]`, is deprecated and will be removed in a future version. Use `frame.loc[string]` instead.\n",
      "  print(tesla['2015'].iloc[:5,:5])\n"
     ]
    }
   ],
   "source": [
    "print(tesla['2015'].iloc[:5,:5])"
   ]
  },
  {
   "cell_type": "markdown",
   "id": "86208098",
   "metadata": {},
   "source": [
    "#### 3.\n",
    "다음은 2010년 6월의 데이터를 추출한 것입니다."
   ]
  },
  {
   "cell_type": "code",
   "execution_count": 187,
   "id": "b00aa639",
   "metadata": {},
   "outputs": [
    {
     "name": "stdout",
     "output_type": "stream",
     "text": [
      "Empty DataFrame\n",
      "Columns: [Date, Open, High, Low, Close]\n",
      "Index: []\n"
     ]
    },
    {
     "name": "stderr",
     "output_type": "stream",
     "text": [
      "<ipython-input-187-33712f015d52>:1: FutureWarning: Indexing a DataFrame with a datetimelike index using a single string to slice the rows, like `frame[string]`, is deprecated and will be removed in a future version. Use `frame.loc[string]` instead.\n",
      "  print(tesla['2010-06'].iloc[:,:5])\n"
     ]
    }
   ],
   "source": [
    "print(tesla['2010-06'].iloc[:,:5])"
   ]
  },
  {
   "cell_type": "markdown",
   "id": "691f92da",
   "metadata": {},
   "source": [
    "## 시간 간격과 인덱스 - TimedeltaIndex\n",
    "예를 들어 주식 데이터에서 최소 5일간 수집된 데이터만 살펴보고 싶다면 어떻게 해야 할까요? 이런 경우에는 시간 간격을 인덱스로 지정하여 데이터를 추출하면 됩니다. 이번에는 datetime 오브젝트를 인덱스로 지정하는 것이 아니라 시간 간격을 인덱스로 지정하여 진행하겠습니다."
   ]
  },
  {
   "cell_type": "markdown",
   "id": "f747f640",
   "metadata": {},
   "source": [
    "### 시간 간격을 인덱스로 지정해 데이터 추출하기\n",
    "#### 1. \n",
    "Date 열에서 Date 열의 최솟값을 빼면 데이터를 수집한 이후에 시간이 얼마나 흘렀는지 알 수 있습니다. Date 열에서 Date 열의 최솟값을 뺀 다음 ref_date열로 추가한 것입니다."
   ]
  },
  {
   "cell_type": "code",
   "execution_count": 188,
   "id": "79ca9087",
   "metadata": {},
   "outputs": [
    {
     "name": "stdout",
     "output_type": "stream",
     "text": [
      "                 Date    Open    High     Low   Close      Volume  ExDividend  \\\n",
      "Date                                                                            \n",
      "2018-03-27 2018-03-27  304.00  304.27  277.18  279.18  13696168.0         0.0   \n",
      "2018-03-26 2018-03-26  307.34  307.59  291.36  304.18   8324639.0         0.0   \n",
      "2018-03-23 2018-03-23  311.25  311.61  300.45  301.54   6600538.0         0.0   \n",
      "2018-03-22 2018-03-22  313.89  318.82  308.18  309.10   4914307.0         0.0   \n",
      "2018-03-21 2018-03-21  310.25  322.44  310.19  316.53   5927881.0         0.0   \n",
      "\n",
      "            SplitRatio  AdjOpen  AdjHigh  AdjLow  AdjClose   AdjVolume  \\\n",
      "Date                                                                     \n",
      "2018-03-27         1.0   304.00   304.27  277.18    279.18  13696168.0   \n",
      "2018-03-26         1.0   307.34   307.59  291.36    304.18   8324639.0   \n",
      "2018-03-23         1.0   311.25   311.61  300.45    301.54   6600538.0   \n",
      "2018-03-22         1.0   313.89   318.82  308.18    309.10   4914307.0   \n",
      "2018-03-21         1.0   310.25   322.44  310.19    316.53   5927881.0   \n",
      "\n",
      "           ref_date  \n",
      "Date                 \n",
      "2018-03-27 547 days  \n",
      "2018-03-26 546 days  \n",
      "2018-03-23 543 days  \n",
      "2018-03-22 542 days  \n",
      "2018-03-21 541 days  \n"
     ]
    }
   ],
   "source": [
    "tesla['ref_date']=tesla['Date']-tesla['Date'].min()\n",
    "print(tesla.head())"
   ]
  },
  {
   "cell_type": "markdown",
   "id": "13dddf06",
   "metadata": {},
   "source": [
    "#### 2.\n",
    "다음과 같이 ref_date 열을 인덱스로 지정했습니다. 이제 시간 간격을 이용하여 데이터를 추출할 수 있습니다."
   ]
  },
  {
   "cell_type": "code",
   "execution_count": 189,
   "id": "727c82db",
   "metadata": {},
   "outputs": [
    {
     "name": "stdout",
     "output_type": "stream",
     "text": [
      "               Date    Open    High     Low   Close\n",
      "ref_date                                           \n",
      "547 days 2018-03-27  304.00  304.27  277.18  279.18\n",
      "546 days 2018-03-26  307.34  307.59  291.36  304.18\n",
      "543 days 2018-03-23  311.25  311.61  300.45  301.54\n",
      "542 days 2018-03-22  313.89  318.82  308.18  309.10\n",
      "541 days 2018-03-21  310.25  322.44  310.19  316.53\n"
     ]
    }
   ],
   "source": [
    "tesla.index=tesla['ref_date']\n",
    "print(tesla.iloc[:5,:5])"
   ]
  },
  {
   "cell_type": "markdown",
   "id": "33444249",
   "metadata": {},
   "source": [
    "#### 3.\n",
    "다음은 데이터를 수집한 이후 최초 5일의 데이터를 추출한 것입니다."
   ]
  },
  {
   "cell_type": "code",
   "execution_count": 190,
   "id": "bb22d82e",
   "metadata": {},
   "outputs": [
    {
     "name": "stdout",
     "output_type": "stream",
     "text": [
      "               Date    Open      High       Low   Close\n",
      "ref_date                                               \n",
      "4 days   2016-09-30  202.21  204.9800  199.5500  204.03\n",
      "3 days   2016-09-29  205.60  207.3300  200.5800  200.70\n",
      "2 days   2016-09-28  207.51  208.2500  205.2600  206.27\n",
      "1 days   2016-09-27  209.65  209.9818  204.6093  205.81\n",
      "0 days   2016-09-26  206.50  211.0000  206.5000  208.99\n"
     ]
    }
   ],
   "source": [
    "print(tesla['5 days':].iloc[:5, :5])"
   ]
  },
  {
   "cell_type": "markdown",
   "id": "9193ac90",
   "metadata": {},
   "source": [
    "## 시간 범위와 인덱스\n",
    "### 시간범위 생성해 인덱스로 지정하기\n",
    "#### 1.\n",
    "테슬라 주식 데이터는 특정 일에 누락된 데이터가 없습니다. 그래서 이번에는 에볼라 데이터 집합을 사용하겠습니다. 가장 앞쪽의 데이터를 살펴보면 2015년 01월 01일의 데이터가 누락된 것을 알 수 있습니다."
   ]
  },
  {
   "cell_type": "code",
   "execution_count": 191,
   "id": "7c85fec0",
   "metadata": {},
   "outputs": [
    {
     "name": "stdout",
     "output_type": "stream",
     "text": [
      "        Date  Day  Cases_Guinea  Cases_Liberia  Cases_SierraLeone\n",
      "0 2015-01-05  289        2776.0            NaN            10030.0\n",
      "1 2015-01-04  288        2775.0            NaN             9780.0\n",
      "2 2015-01-03  287        2769.0         8166.0             9722.0\n",
      "3 2015-01-02  286           NaN         8157.0                NaN\n",
      "4 2014-12-31  284        2730.0         8115.0             9633.0\n"
     ]
    }
   ],
   "source": [
    "ebola=pd.read_csv('data/country_timeseries.csv',parse_dates=[0])\n",
    "print(ebola.iloc[:5,:5])"
   ]
  },
  {
   "cell_type": "markdown",
   "id": "e4e98aa0",
   "metadata": {},
   "source": [
    "#### 2.\n",
    "뒤쪽의 데이터도 마찬가지입니다. 2014년 03월 23일의 데이터가 누락되었습니다."
   ]
  },
  {
   "cell_type": "code",
   "execution_count": 192,
   "id": "d4f0319a",
   "metadata": {},
   "outputs": [
    {
     "name": "stdout",
     "output_type": "stream",
     "text": [
      "          Date  Day  Cases_Guinea  Cases_Liberia  Cases_SierraLeone\n",
      "117 2014-03-27    5         103.0            8.0                6.0\n",
      "118 2014-03-26    4          86.0            NaN                NaN\n",
      "119 2014-03-25    3          86.0            NaN                NaN\n",
      "120 2014-03-24    2          86.0            NaN                NaN\n",
      "121 2014-03-22    0          49.0            NaN                NaN\n"
     ]
    }
   ],
   "source": [
    "print(ebola.iloc[-5:,:5])"
   ]
  },
  {
   "cell_type": "markdown",
   "id": "cf30beaf",
   "metadata": {},
   "source": [
    "#### 3.\n",
    "다음은 date_range 메서드를 사용하여 2014년 12월 31일 부터 2015년 01월 05일 사요의 시간 인덱스를 생성한 것입니다."
   ]
  },
  {
   "cell_type": "code",
   "execution_count": 193,
   "id": "b0da928e",
   "metadata": {},
   "outputs": [
    {
     "name": "stdout",
     "output_type": "stream",
     "text": [
      "DatetimeIndex(['2014-12-31', '2015-01-01', '2015-01-02', '2015-01-03',\n",
      "               '2015-01-04', '2015-01-05'],\n",
      "              dtype='datetime64[ns]', freq='D')\n"
     ]
    }
   ],
   "source": [
    "head_range=pd.date_range(start='2014-12-31', end='2015-01-05')\n",
    "print(head_range)"
   ]
  },
  {
   "cell_type": "markdown",
   "id": "ac41e0ab",
   "metadata": {},
   "source": [
    "#### 4.\n",
    "다음은 원본 데이터를 손상시키는 것을 방지하기 위해 ebola 데이터프레임의 앞쪽 5개의 데이터를 추출하여 새로운 데이터프레임을 만든 것입니다. 이때 Date 열을 인덱스로 먼저 지정하지 않으면 오류가 발생합니다. 반드시 Date 열을 인덱스로 지정한 다음 과정 3에서 생성한 시간 범위를 인덱스로 지정해야 합니다."
   ]
  },
  {
   "cell_type": "code",
   "execution_count": 194,
   "id": "c17a5117",
   "metadata": {},
   "outputs": [
    {
     "name": "stdout",
     "output_type": "stream",
     "text": [
      "                 Date  Day  Cases_Guinea  Cases_Liberia  Cases_SierraLeone\n",
      "Date                                                                      \n",
      "2015-01-05 2015-01-05  289        2776.0            NaN            10030.0\n",
      "2015-01-04 2015-01-04  288        2775.0            NaN             9780.0\n",
      "2015-01-03 2015-01-03  287        2769.0         8166.0             9722.0\n",
      "2015-01-02 2015-01-02  286           NaN         8157.0                NaN\n",
      "2014-12-31 2014-12-31  284        2730.0         8115.0             9633.0\n"
     ]
    }
   ],
   "source": [
    "ebola_5=ebola.head()\n",
    "ebola_5.index=ebola_5['Date']\n",
    "ebola_5.reindex(head_range)\n",
    "print(ebola_5.iloc[:5,:5])"
   ]
  },
  {
   "cell_type": "markdown",
   "id": "954212a7",
   "metadata": {},
   "source": [
    "### 시간 범위의 주기 설정하기\n",
    "시간 범위를 인덱스로 지정하면 DatetimeIndex 자료형이 만들어집니다. 그리고 DatetimeIndex에는 freq 속성이 포함되어 있죠 freq 속성값을 지정하면 시간 간격을 조절하여 DatetimeIndex 를 만들수 있습니다. 아래에 freq 속성값으로 사용할 수 있는 시간 주기를 표로 정리했습니다.\n",
    "#### freq 속성값으로 사용할 수 있는 시간 주기\n",
    "- 시간 주기 : 설명\n",
    "- B : 평일만 포함\n",
    "- C : 사용자가 정의한 평일만 포함\n",
    "- D : 달력 일자 단위\n",
    "- W : 주간 단위 \n",
    "- M : 월 마지막 날만 포함\n",
    "- SM : 15일과 월 마지막 날만 포함\n",
    "- BM : M 주기의 값이 휴일이면 제외하고 평일만 포함\n",
    "- CBM : BM에 사용자 정의 평일을 적용\n",
    "- MS : 월 시작일만 포함\n",
    "- SMS : 월 시작일과 15일만 포함\n",
    "- BMS : MS 주기의 값이 휴일이면 제외하고 평일만 포함\n",
    "- CBMS : BMS에 사용자 정의 평일을 적용\n",
    "- Q : 3,6,9,12월 분기 마지막 날만 포함\n",
    "- BQ : 3,6,9,12월 분기 마지막 날이 휴일이면 제외하고 평일만 포함\n",
    "- QS : 3,6,9,12월 분기 시작일만 포함\n",
    "- BQS : 3,6,9,12월 분기 시작일이 휴일이면 제외하고 평일만 포함\n",
    "- A : 년의 마지막 날이 휴일이면 제외하고 평일만 포함\n",
    "- BA : 년의 마지막 날이 휴일이면 제외하고 평일만 포함\n",
    "- AS :년의 시작일만 포함\n",
    "- BAS : 년의 시작일이 휴일이면 제외하고 평일만 포함\n",
    "- BH : 평일을 시간 단위로 포함(09:00~16:00)\n",
    "- H : 시간 단위로 포함(00:00~00:00)\n",
    "- T : 분 단위 포함\n",
    "- S : 초 단위 포함\n",
    "- L : 밀리초 단위 포함\n",
    "- U : 마이크로초 단위 포함\n",
    "- N : 나노초 단위 포함<br>\n",
    "다음은 date_range 메서드의 freq 인잣값을 B로 설정하여 평일만 포함시킨 DatetimeIndex를 만든 것입니다."
   ]
  },
  {
   "cell_type": "code",
   "execution_count": 195,
   "id": "e0e740bb",
   "metadata": {},
   "outputs": [
    {
     "name": "stdout",
     "output_type": "stream",
     "text": [
      "DatetimeIndex(['2017-01-02', '2017-01-03', '2017-01-04', '2017-01-05',\n",
      "               '2017-01-06'],\n",
      "              dtype='datetime64[ns]', freq='B')\n"
     ]
    }
   ],
   "source": [
    "print(pd.date_range('2017-01-01','2017-01-07',freq='B'))"
   ]
  },
  {
   "cell_type": "markdown",
   "id": "92f5db2b",
   "metadata": {},
   "source": [
    "## 시간 범위 수정하고 데이터 밀어내기 - shift 메서드\n",
    "만약 나라별로 에볼라의 확산 속도를 비교하려면 발생하기 시작한 날짜를 옮기는 것이 좋습니다. 왜 그럴까요? 일단 ebola 데이터프레임으로 그래프를 그려보고 에볼라의 확산 속도를 비교하는 데 어떤 문제가 있는지 그리고 해결 방법은 무엇인지 알아보겠습니다.\n",
    "### 에볼라의 확산 속도 비교하기\n",
    "#### 1.\n",
    "다음은 ebola 데이터프레임의 Date 열을 인덱스로 지정한 다음 x축을 Date 열로, y축을 사망자 수로 지정하여 그린 그래프입니다."
   ]
  },
  {
   "cell_type": "code",
   "execution_count": 103,
   "id": "a40d8b1d",
   "metadata": {},
   "outputs": [
    {
     "data": {
      "image/png": "[encoded data removed]",
      "text/plain": [
       "<Figure size 432x288 with 1 Axes>"
      ]
     },
     "metadata": {
      "needs_background": "light"
     },
     "output_type": "display_data"
    }
   ],
   "source": [
    "import matplotlib.pyplot as plt\n",
    "ebola.index=ebola['Date']\n",
    "\n",
    "fig, ax=plt.subplots()\n",
    "ax=ebola.iloc[0:,1:].plot(ax=ax)\n",
    "ax.legend(fontsize=7, loc=2, borderaxespad=0.)\n",
    "plt.show()"
   ]
  },
  {
   "cell_type": "markdown",
   "id": "2063973b",
   "metadata": {},
   "source": [
    "#### 2.\n",
    "그런데 과정 1의 그래프는 각 나라의 에볼라 발병일이 달라 그래프가 그려지기 시작한 지점도 다릅니다. 달리기 속도를 비교하려면 같은 출발선에서 출발하여 시간을 측정해야겠죠? 에볼라의 확산 속도도 같은 방법으로 측정해야 합니다. 즉, 각나라의 발병일을 가장 처음 에볼라가 발병한 Guinea와 동일한 위치로 옮겨야 나라별 에볼라의 확산 속도를 제대로 비교할 수 있습니다."
   ]
  },
  {
   "cell_type": "code",
   "execution_count": 104,
   "id": "514cea23",
   "metadata": {},
   "outputs": [
    {
     "name": "stdout",
     "output_type": "stream",
     "text": [
      "            Day  Cases_Guinea  Cases_Liberia\n",
      "Date                                        \n",
      "2014-04-04   13         143.0           18.0\n",
      "2014-04-01   10         127.0            8.0\n",
      "2014-03-31    9         122.0            8.0\n",
      "2014-03-29    7         112.0            7.0\n",
      "2014-03-28    6         112.0            3.0\n",
      "2014-03-27    5         103.0            8.0\n",
      "2014-03-26    4          86.0            NaN\n",
      "2014-03-25    3          86.0            NaN\n",
      "2014-03-24    2          86.0            NaN\n",
      "2014-03-22    0          49.0            NaN\n"
     ]
    }
   ],
   "source": [
    "ebola_sub=ebola[['Day', 'Cases_Guinea', 'Cases_Liberia']]\n",
    "print(ebola_sub.tail(10))"
   ]
  },
  {
   "cell_type": "markdown",
   "id": "fea1fd54",
   "metadata": {},
   "source": [
    "#### 3. 그래프를 그리기 위한 데이터프레임 준비하기\n",
    "다음은 Date 열의 자료형을 datetime 오브젝트로 변환하여 ebola 데이터프레임을 다시 생성한 것입니다. 그런데 중간에 아에 날짜가 없는 데이터도 있습니다. 이데이터도 포함시켜야 확산 속도를 제대로 비교할 수 있습니다."
   ]
  },
  {
   "cell_type": "code",
   "execution_count": 105,
   "id": "c139fa4e",
   "metadata": {},
   "outputs": [
    {
     "name": "stdout",
     "output_type": "stream",
     "text": [
      "        Date  Day  Cases_Guinea  Cases_Liberia  Cases_SierraLeone\n",
      "0 2015-01-05  289        2776.0            NaN            10030.0\n",
      "1 2015-01-04  288        2775.0            NaN             9780.0\n",
      "2 2015-01-03  287        2769.0         8166.0             9722.0\n",
      "3 2015-01-02  286           NaN         8157.0                NaN\n",
      "4 2014-12-31  284        2730.0         8115.0             9633.0\n"
     ]
    }
   ],
   "source": [
    "ebola=pd.read_csv('data/country_timeseries.csv', parse_dates=['Date'])\n",
    "\n",
    "print(ebola.head().iloc[:,:5])"
   ]
  },
  {
   "cell_type": "code",
   "execution_count": 106,
   "id": "b607e6d1",
   "metadata": {},
   "outputs": [
    {
     "name": "stdout",
     "output_type": "stream",
     "text": [
      "          Date  Day  Cases_Guinea  Cases_Liberia  Cases_SierraLeone\n",
      "117 2014-03-27    5         103.0            8.0                6.0\n",
      "118 2014-03-26    4          86.0            NaN                NaN\n",
      "119 2014-03-25    3          86.0            NaN                NaN\n",
      "120 2014-03-24    2          86.0            NaN                NaN\n",
      "121 2014-03-22    0          49.0            NaN                NaN\n"
     ]
    }
   ],
   "source": [
    "print(ebola.tail().iloc[:,:5])"
   ]
  },
  {
   "cell_type": "markdown",
   "id": "3f0f786c",
   "metadata": {},
   "source": [
    "#### 4. \n",
    "다음은 Date 열을 인덱스로 지정한 다음 ebola 데이터프레임의 Date 열의 최댓값과 최솟값으로 시간 범위를 생성하여 new_idx에 저장한 것입니다. 이렇게 하면 날짜가 아예 없었던 데이터의 인덱스를 생성할 수 있습니다."
   ]
  },
  {
   "cell_type": "code",
   "execution_count": 107,
   "id": "312b09e2",
   "metadata": {},
   "outputs": [],
   "source": [
    "ebola.index=ebola['Date']\n",
    "new_idx=pd.date_range(ebola.index.min(),ebola.index.max())"
   ]
  },
  {
   "cell_type": "markdown",
   "id": "7360317b",
   "metadata": {},
   "source": [
    "#### 5.\n",
    "그런데 new_idx를 살펴보면 ebola 데이터 집합에 있는 시간 순서와 반대로 생성되어 있습니다. 다음은 시간 순서를 맞추기 위해 reversed 메서드를 사용하여 인덱스를 반대로 뒤집은 것입니다."
   ]
  },
  {
   "cell_type": "code",
   "execution_count": 109,
   "id": "d17d9d38",
   "metadata": {},
   "outputs": [
    {
     "name": "stdout",
     "output_type": "stream",
     "text": [
      "DatetimeIndex(['2014-03-22', '2014-03-23', '2014-03-24', '2014-03-25',\n",
      "               '2014-03-26', '2014-03-27', '2014-03-28', '2014-03-29',\n",
      "               '2014-03-30', '2014-03-31',\n",
      "               ...\n",
      "               '2014-12-27', '2014-12-28', '2014-12-29', '2014-12-30',\n",
      "               '2014-12-31', '2015-01-01', '2015-01-02', '2015-01-03',\n",
      "               '2015-01-04', '2015-01-05'],\n",
      "              dtype='datetime64[ns]', length=290, freq='D')\n"
     ]
    }
   ],
   "source": [
    "print(new_idx)"
   ]
  },
  {
   "cell_type": "markdown",
   "id": "a585bf5f",
   "metadata": {},
   "source": [
    "#### 6.\n",
    "다음은 reindex 메서드를 사용하여 새로 생성한 인덱스를 새로운 인덱스로 지정한 것입니다. 그러면 2015년 01월 01일 데이터와 같은 ebola 데이터프레임에 아예 없었던 날짜가 추가됩니다. 이제 그래프를 그리기 위한 데이터프레임이 준비되었습니다."
   ]
  },
  {
   "cell_type": "code",
   "execution_count": 111,
   "id": "cccb92b2",
   "metadata": {},
   "outputs": [
    {
     "name": "stdout",
     "output_type": "stream",
     "text": [
      "                 Date  Day  Cases_Guinea  Cases_Liberia  Cases_SierraLeone\n",
      "Date                                                                      \n",
      "2015-01-05 2015-01-05  289        2776.0            NaN            10030.0\n",
      "2015-01-04 2015-01-04  288        2775.0            NaN             9780.0\n",
      "2015-01-03 2015-01-03  287        2769.0         8166.0             9722.0\n",
      "2015-01-02 2015-01-02  286           NaN         8157.0                NaN\n",
      "2014-12-31 2014-12-31  284        2730.0         8115.0             9633.0\n"
     ]
    }
   ],
   "source": [
    "ebloa=ebola.reindex(new_idx)\n",
    "print(ebola.head().iloc[:,:5])"
   ]
  },
  {
   "cell_type": "code",
   "execution_count": 112,
   "id": "c5d9eae1",
   "metadata": {},
   "outputs": [
    {
     "name": "stdout",
     "output_type": "stream",
     "text": [
      "                 Date  Day  Cases_Guinea  Cases_Liberia  Cases_SierraLeone\n",
      "Date                                                                      \n",
      "2014-03-27 2014-03-27    5         103.0            8.0                6.0\n",
      "2014-03-26 2014-03-26    4          86.0            NaN                NaN\n",
      "2014-03-25 2014-03-25    3          86.0            NaN                NaN\n",
      "2014-03-24 2014-03-24    2          86.0            NaN                NaN\n",
      "2014-03-22 2014-03-22    0          49.0            NaN                NaN\n"
     ]
    }
   ],
   "source": [
    "print(ebola.tail().iloc[:,:5])"
   ]
  },
  {
   "cell_type": "markdown",
   "id": "d3757064",
   "metadata": {},
   "source": [
    "#### 7. 각 나라의 에볼라 발병일 옮기기\n",
    "다음은 last_valid_index, first_valid_index 메서드를 사용하여 각 나라의 에볼라 발병일을 구한 것입니다. 각각의 메서드는 유효한 값이 있는 첫 번째와 마지막 인덱스를 반환합니다. 다음을 입력하고 결과를 확인해 보세요."
   ]
  },
  {
   "cell_type": "code",
   "execution_count": 127,
   "id": "1fcaae64",
   "metadata": {},
   "outputs": [
    {
     "name": "stdout",
     "output_type": "stream",
     "text": [
      "Date                  2014-03-22\n",
      "Day                   2014-03-22\n",
      "Cases_Guinea          2014-03-22\n",
      "Cases_Liberia         2014-03-27\n",
      "Cases_SierraLeone     2014-03-27\n",
      "Cases_Nigeria         2014-07-23\n",
      "Cases_Senegal         2014-08-31\n",
      "Cases_UnitedStates    2014-10-01\n",
      "Cases_Spain           2014-10-08\n",
      "Cases_Mali            2014-10-22\n",
      "Deaths_Guinea         2014-03-22\n",
      "Deaths_Liberia        2014-03-27\n",
      "Deaths_SierraLeone    2014-03-27\n",
      "Deaths_Nigeria        2014-07-23\n",
      "Deaths_Senegal        2014-09-07\n",
      "Deaths_UnitedStates   2014-10-01\n",
      "Deaths_Spain          2014-10-08\n",
      "Deaths_Mali           2014-10-22\n",
      "dtype: datetime64[ns]\n"
     ]
    }
   ],
   "source": [
    "last_valid=ebola.apply(pd.Series.last_valid_index)\n",
    "print(last_valid)"
   ]
  },
  {
   "cell_type": "code",
   "execution_count": 128,
   "id": "7f6f0572",
   "metadata": {},
   "outputs": [
    {
     "name": "stdout",
     "output_type": "stream",
     "text": [
      "Date                  2015-01-05\n",
      "Day                   2015-01-05\n",
      "Cases_Guinea          2015-01-05\n",
      "Cases_Liberia         2015-01-03\n",
      "Cases_SierraLeone     2015-01-05\n",
      "Cases_Nigeria         2014-12-07\n",
      "Cases_Senegal         2014-12-07\n",
      "Cases_UnitedStates    2014-12-07\n",
      "Cases_Spain           2014-12-07\n",
      "Cases_Mali            2014-12-07\n",
      "Deaths_Guinea         2015-01-05\n",
      "Deaths_Liberia        2015-01-03\n",
      "Deaths_SierraLeone    2015-01-05\n",
      "Deaths_Nigeria        2014-12-07\n",
      "Deaths_Senegal        2014-12-07\n",
      "Deaths_UnitedStates   2014-12-07\n",
      "Deaths_Spain          2014-12-07\n",
      "Deaths_Mali           2014-12-07\n",
      "dtype: datetime64[ns]\n"
     ]
    }
   ],
   "source": [
    "first_valid=ebola.apply(pd.Series.first_valid_index)\n",
    "print(first_valid)"
   ]
  },
  {
   "cell_type": "markdown",
   "id": "716ea286",
   "metadata": {},
   "source": [
    "#### 8.\n",
    "각 나라의 에볼라 발병일을 동일한 출발선으로 옮기려면 에볼라가 가장 처음 발병한 날에서 각 나라의 에볼라 발병일을 뺀 만큼만 옯기면 됩니다."
   ]
  },
  {
   "cell_type": "code",
   "execution_count": 129,
   "id": "6f5a395d",
   "metadata": {},
   "outputs": [
    {
     "name": "stdout",
     "output_type": "stream",
     "text": [
      "2014-03-22 00:00:00\n"
     ]
    }
   ],
   "source": [
    "earliest_date=ebola.index.min()\n",
    "print(earliest_date)"
   ]
  },
  {
   "cell_type": "code",
   "execution_count": 130,
   "id": "38cce025",
   "metadata": {},
   "outputs": [
    {
     "name": "stdout",
     "output_type": "stream",
     "text": [
      "Date                    0 days\n",
      "Day                     0 days\n",
      "Cases_Guinea            0 days\n",
      "Cases_Liberia           5 days\n",
      "Cases_SierraLeone       5 days\n",
      "Cases_Nigeria         123 days\n",
      "Cases_Senegal         162 days\n",
      "Cases_UnitedStates    193 days\n",
      "Cases_Spain           200 days\n",
      "Cases_Mali            214 days\n",
      "Deaths_Guinea           0 days\n",
      "Deaths_Liberia          5 days\n",
      "Deaths_SierraLeone      5 days\n",
      "Deaths_Nigeria        123 days\n",
      "Deaths_Senegal        169 days\n",
      "Deaths_UnitedStates   193 days\n",
      "Deaths_Spain          200 days\n",
      "Deaths_Mali           214 days\n",
      "dtype: timedelta64[ns]\n"
     ]
    }
   ],
   "source": [
    "shift_values = last_valid - earliest_date\n",
    "print(shift_values)"
   ]
  },
  {
   "cell_type": "markdown",
   "id": "04f91493",
   "metadata": {},
   "source": [
    "#### 9.\n",
    "이제 각 나라의 에볼라 발병일을 옮기면 됩니다. 다음은 shift 메서드를 사용하여 모든 열의 값을 shift_values 값만큼 옯긴 것입니다. shift 메서드는 인잣값만큼 데이터를 밀어내는 메서드입니다."
   ]
  },
  {
   "cell_type": "code",
   "execution_count": 132,
   "id": "0b81bbde",
   "metadata": {},
   "outputs": [],
   "source": [
    "ebola_dict={}\n",
    "for idx, col in enumerate(ebola):\n",
    "    d= shift_values[idx].days\n",
    "    shifted=ebola[col].shift(d)\n",
    "    ebola_dict[col]=shifted"
   ]
  },
  {
   "cell_type": "markdown",
   "id": "c2f64cc8",
   "metadata": {},
   "source": [
    "#### 10.\n",
    "ebola_dict에는 시간을 다시 설정한 데이터가 딕셔너리 형태로 저장되어 있습니다. 다음은 DataFarme 메서드를 사용하여 ebola_dict의 값을 데이터프레임으로 변환한 것입니다."
   ]
  },
  {
   "cell_type": "code",
   "execution_count": 136,
   "id": "679975eb",
   "metadata": {},
   "outputs": [],
   "source": [
    "ebola_shift=pd.DataFrame(ebola_dict)"
   ]
  },
  {
   "cell_type": "markdown",
   "id": "a041deec",
   "metadata": {},
   "source": [
    "#### 11.\n",
    "이제 에볼라의 최초 발병일을 기준으로 모든 열의 데이터가 옮겨졌습니다."
   ]
  },
  {
   "cell_type": "code",
   "execution_count": 137,
   "id": "b27602ba",
   "metadata": {},
   "outputs": [
    {
     "name": "stdout",
     "output_type": "stream",
     "text": [
      "                 Date  Day  Cases_Guinea  Cases_Liberia  Cases_SierraLeone  \\\n",
      "Date                                                                         \n",
      "2014-03-27 2014-03-27    5         103.0           18.0                2.0   \n",
      "2014-03-26 2014-03-26    4          86.0            8.0                2.0   \n",
      "2014-03-25 2014-03-25    3          86.0            8.0                2.0   \n",
      "2014-03-24 2014-03-24    2          86.0            7.0                NaN   \n",
      "2014-03-22 2014-03-22    0          49.0            3.0                2.0   \n",
      "\n",
      "            Cases_Nigeria  Cases_Senegal  Cases_UnitedStates  Cases_Spain  \\\n",
      "Date                                                                        \n",
      "2014-03-27            NaN            NaN                 NaN          NaN   \n",
      "2014-03-26            NaN            NaN                 NaN          NaN   \n",
      "2014-03-25            NaN            NaN                 NaN          NaN   \n",
      "2014-03-24            NaN            NaN                 NaN          NaN   \n",
      "2014-03-22            NaN            NaN                 NaN          NaN   \n",
      "\n",
      "            Cases_Mali  Deaths_Guinea  Deaths_Liberia  Deaths_SierraLeone  \\\n",
      "Date                                                                        \n",
      "2014-03-27         NaN           66.0             7.0                 2.0   \n",
      "2014-03-26         NaN           62.0             5.0                 2.0   \n",
      "2014-03-25         NaN           60.0             4.0                 2.0   \n",
      "2014-03-24         NaN           59.0             2.0                 NaN   \n",
      "2014-03-22         NaN           29.0             3.0                 2.0   \n",
      "\n",
      "            Deaths_Nigeria  Deaths_Senegal  Deaths_UnitedStates  Deaths_Spain  \\\n",
      "Date                                                                            \n",
      "2014-03-27             NaN             NaN                  NaN           NaN   \n",
      "2014-03-26             NaN             NaN                  NaN           NaN   \n",
      "2014-03-25             NaN             NaN                  NaN           NaN   \n",
      "2014-03-24             NaN             NaN                  NaN           NaN   \n",
      "2014-03-22             NaN             NaN                  NaN           NaN   \n",
      "\n",
      "            Deaths_Mali  \n",
      "Date                     \n",
      "2014-03-27          NaN  \n",
      "2014-03-26          NaN  \n",
      "2014-03-25          NaN  \n",
      "2014-03-24          NaN  \n",
      "2014-03-22          NaN  \n"
     ]
    }
   ],
   "source": [
    "print(ebola_shift.tail())"
   ]
  },
  {
   "cell_type": "markdown",
   "id": "d14030ac",
   "metadata": {},
   "source": [
    "#### 12.\n",
    "마지막으로 인덱스를 Day 열로 지정하고 그래프에 필요 없는 Date, Day 열을 삭제하면 그래프를 그리기 위한 데이터프레임이 완성됩니다."
   ]
  },
  {
   "cell_type": "code",
   "execution_count": 140,
   "id": "c7c80b6f",
   "metadata": {},
   "outputs": [
    {
     "name": "stdout",
     "output_type": "stream",
     "text": [
      "     Cases_Guinea  Cases_Liberia  Cases_SierraLeone  Cases_Nigeria  \\\n",
      "Day                                                                  \n",
      "5           103.0           18.0                2.0            NaN   \n",
      "4            86.0            8.0                2.0            NaN   \n",
      "3            86.0            8.0                2.0            NaN   \n",
      "2            86.0            7.0                NaN            NaN   \n",
      "0            49.0            3.0                2.0            NaN   \n",
      "\n",
      "     Cases_Senegal  Cases_UnitedStates  Cases_Spain  Cases_Mali  \\\n",
      "Day                                                               \n",
      "5              NaN                 NaN          NaN         NaN   \n",
      "4              NaN                 NaN          NaN         NaN   \n",
      "3              NaN                 NaN          NaN         NaN   \n",
      "2              NaN                 NaN          NaN         NaN   \n",
      "0              NaN                 NaN          NaN         NaN   \n",
      "\n",
      "     Deaths_Guinea  Deaths_Liberia  Deaths_SierraLeone  Deaths_Nigeria  \\\n",
      "Day                                                                      \n",
      "5             66.0             7.0                 2.0             NaN   \n",
      "4             62.0             5.0                 2.0             NaN   \n",
      "3             60.0             4.0                 2.0             NaN   \n",
      "2             59.0             2.0                 NaN             NaN   \n",
      "0             29.0             3.0                 2.0             NaN   \n",
      "\n",
      "     Deaths_Senegal  Deaths_UnitedStates  Deaths_Spain  Deaths_Mali  \n",
      "Day                                                                  \n",
      "5               NaN                  NaN           NaN          NaN  \n",
      "4               NaN                  NaN           NaN          NaN  \n",
      "3               NaN                  NaN           NaN          NaN  \n",
      "2               NaN                  NaN           NaN          NaN  \n",
      "0               NaN                  NaN           NaN          NaN  \n"
     ]
    }
   ],
   "source": [
    "ebola_shift.index=ebola_shift['Day']\n",
    "ebola_shift=ebola_shift.drop(['Date', 'Day'], axis=1)\n",
    "\n",
    "print(ebola_shift.tail())"
   ]
  },
  {
   "cell_type": "markdown",
   "id": "a14dc9ae",
   "metadata": {},
   "source": [
    "#### 13.\n",
    "다음은 지금까지 만든 데이터프레임으로 다시 그린 그래프입니다."
   ]
  },
  {
   "cell_type": "code",
   "execution_count": 141,
   "id": "5ce13743",
   "metadata": {},
   "outputs": [
    {
     "data": {
      "image/png": "[encoded data removed]",
      "text/plain": [
       "<Figure size 432x288 with 1 Axes>"
      ]
     },
     "metadata": {
      "needs_background": "light"
     },
     "output_type": "display_data"
    }
   ],
   "source": [
    "fig, ax=plt.subplots()\n",
    "ax=ebola_shift.iloc[:,:].plot(ax=ax)\n",
    "ax.legend(fontsize=7, loc=2, borderaxespad=0.)\n",
    "plt.show()"
   ]
  },
  {
   "cell_type": "markdown",
   "id": "c9b9b612",
   "metadata": {},
   "source": [
    "## 마무리하며\n",
    "판다스 라이브러리는 시간을 다룰 수 있는 다양한 기능을 제공합니다. 이 장에서는 시계열 데이터와 깊은 연관성이 있는 에볼라 데이터 및 주식 데이터를 주로 다루었습니다. 우리 주변의 상당수의 데이터는 시간과 깊은 연관성이 있는 경우가 많습니다. 시계열 데이터를 능숙하게 다루는 것은 데이터 분석가의 기본 소양이므로 이 장의 내용을 반드시 익혀두기 바랍니다."
   ]
  },
  {
   "cell_type": "markdown",
   "id": "4ec82ad1",
   "metadata": {},
   "source": [
    "출처 : \"do it 데이터분석을 위한 판다스 입문\""
   ]
  }
 ],
 "metadata": {
  "kernelspec": {
   "display_name": "Python 3",
   "language": "python",
   "name": "python3"
  },
  "language_info": {
   "codemirror_mode": {
    "name": "ipython",
    "version": 3
   },
   "file_extension": ".py",
   "mimetype": "text/x-python",
   "name": "python",
   "nbconvert_exporter": "python",
   "pygments_lexer": "ipython3",
   "version": "3.8.8"
  }
 },
 "nbformat": 4,
 "nbformat_minor": 5
}
