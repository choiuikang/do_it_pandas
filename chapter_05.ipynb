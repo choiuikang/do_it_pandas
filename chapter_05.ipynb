{
 "cells": [
  {
   "cell_type": "markdown",
   "id": "27213d62",
   "metadata": {},
   "source": [
    "# 05-1 분석하기 좋은 데이터\n",
    "## 분석하기 좋은 데이터란?\n",
    "분석하기 좋은 데이터란 데이터 집합을 분석하기 좋은 상태로 만들어 놓은 것을 말합니다. 데이터 분석 단계에서 데이터 정리는 아주 중요합니다. 실제로 데이터 분석 작업의 70% 이상을 차지하고 있는 작업이 데이터 정리 작업이죠. 분석하기 좋은 데이터는 다음 조건을 만족해야 하며 이 조건을 만족하는 데이터를 특별히 깜끔한 데이터라고 부릅니다."
   ]
  },
  {
   "cell_type": "markdown",
   "id": "f8f21747",
   "metadata": {},
   "source": [
    "#### 깔끔한 데이터의 조건\n",
    "- 데이터 분석 목적에 맞는 데이터를 모아 새로운 표를 만들어야 합니다.\n",
    "- 축정한 값은 행을 구성해야 합니다.\n",
    "- 변수는 열로 구성해야 합니다. "
   ]
  },
  {
   "cell_type": "markdown",
   "id": "418d01fe",
   "metadata": {},
   "source": [
    "아직은 깔끔한 데이터가 왜 중요한지 알 수 없겠지만 실습을 하나씩 진행하다 보면 깔끔한 데이터의 중요성에 대해 자연스럽게 이해할 수 있을 것입니다."
   ]
  },
  {
   "cell_type": "markdown",
   "id": "dd672e2c",
   "metadata": {},
   "source": [
    "####  깔끔한 데이터는 데이터 연결부터\n",
    "예를 들어 주식 데이터를 분석하는 과정에서 '기업정보'가 있는 데이터 집합과 '주식 가격'이 있는 데이터 집합의 있을 때 '첨단 산업 기업의 주식 가격에 대한 데이터'를 보려면 어떻게 해야 할까요? 일단 ' 기업정보'에서 첨잔 기술을 가진 기업을 찾아야 합니다. 그리고 이기업들의 '주식 가격'을 찾아야 겠죠 그런 다음 찾아낸 2개의 데이터를 연결하면 됩니다. 이렇게 데이터 집합은 연관성이 깊은 값끼리 모여 있기 때문에 데이터 연결을 통해 필요한 데이터를 만드는 과정이 반드시 필요합니다. 그러면 다음 실습을 통해 데이터 연결을 어떻게 하는지 알아보겠습니다.\n"
   ]
  },
  {
   "cell_type": "markdown",
   "id": "e780588a",
   "metadata": {},
   "source": [
    "# 05-2 데이터 연결기초"
   ]
  },
  {
   "cell_type": "markdown",
   "id": "e3429b78",
   "metadata": {},
   "source": [
    "### 데이터 연결하기\n",
    "#### 1. concat 메서드로 데이터 연결하기\n",
    "데이터를 연결하려면 concat 메서드를 사용하면 됩니다. 다음 예제를 통해 concat메서드의 사용법을 익혀보겠습니다. 준비된 CSV 파일을 읽어 들여 변수 df1,2,3,에 저장합니다"
   ]
  },
  {
   "cell_type": "code",
   "execution_count": 16,
   "id": "e4dfd858",
   "metadata": {},
   "outputs": [],
   "source": [
    "import pandas as pd\n",
    "\n",
    "df1=pd.read_csv('data/concat_1.csv')\n",
    "df2=pd.read_csv('data/concat_2.csv')\n",
    "df3=pd.read_csv('data/concat_3.csv')"
   ]
  },
  {
   "cell_type": "markdown",
   "id": "6b343106",
   "metadata": {},
   "source": [
    "#### 2.\n",
    "concat 메서드에 연결하려는 데이터프레임을 리스트에 담아 전달하면 연결한 데이터프레임을 반환합니다. concat메서드는 데이터프레임을 연결할 때 위에서 아래 방향으로 연결합니다. 그리고 df1,2,3 은 열의 이름이 모두 A,B,C,D 로 같습니다. 그래서 데이터프레임을 연결한 다음에도 열이 그대로 유지됩니다."
   ]
  },
  {
   "cell_type": "code",
   "execution_count": 17,
   "id": "d3691abe",
   "metadata": {},
   "outputs": [
    {
     "name": "stdout",
     "output_type": "stream",
     "text": [
      "     A    B    C    D\n",
      "0   a0   b0   c0   d0\n",
      "1   a1   b1   c1   d1\n",
      "2   a2   b2   c2   d2\n",
      "3   a3   b3   c3   d3\n",
      "0   a4   b4   c4   d4\n",
      "1   a5   b5   c5   d5\n",
      "2   a6   b6   c6   d6\n",
      "3   a7   b7   c7   d7\n",
      "0   a8   b8   c8   d8\n",
      "1   a9   b9   c9   d9\n",
      "2  a10  b10  c10  d10\n",
      "3  a11  b11  c11  d11\n"
     ]
    }
   ],
   "source": [
    "row_concat=pd.concat([df1, df2, df3])\n",
    "print(row_concat)"
   ]
  },
  {
   "cell_type": "markdown",
   "id": "969c4263",
   "metadata": {},
   "source": [
    "#### 3.\n",
    "연결한 데이터프레임에서 행 데이터를 추출해 볼까요? concat메서드는 전달받은 리스트의 요소 순서대로 데이터를 연결합니다. 그래서 기존 데이터프레임에 있던 인덱스도 그대로 유지됩니다. 다음은 데이터프레임에서 네 번째 행을 추출한 것입니다."
   ]
  },
  {
   "cell_type": "code",
   "execution_count": 19,
   "id": "c53f9764",
   "metadata": {},
   "outputs": [
    {
     "name": "stdout",
     "output_type": "stream",
     "text": [
      "A    a3\n",
      "B    b3\n",
      "C    c3\n",
      "D    d3\n",
      "Name: 3, dtype: object\n"
     ]
    }
   ],
   "source": [
    "print(row_concat.iloc[3,])"
   ]
  },
  {
   "cell_type": "markdown",
   "id": "191e6a14",
   "metadata": {},
   "source": [
    "#### 4.\n",
    "데이터프레임에 시리즈 연결하기\n",
    "이번에는 데이터프레임에 시리즈를 추가해 보겠습니다. 먼저 리스트를 시리즈로 변환합니다."
   ]
  },
  {
   "cell_type": "code",
   "execution_count": 21,
   "id": "e8ebaab1",
   "metadata": {},
   "outputs": [],
   "source": [
    "new_row_series=pd.Series(['n1','n2','n3','n4'])"
   ]
  },
  {
   "cell_type": "markdown",
   "id": "a09cec1e",
   "metadata": {},
   "source": [
    "#### 5.\n",
    "concat 메서드로 데이터프레임과 시리즈를 연결해 볼까요? 시리즈가 새로운 행으로 추가될 것 같죠? 하지만 행이 아니라 새로운 열로 추가됩니다. 그래서 NaN이라는 값도 많이 생겼습니다. 앞으로 NaN을 누락값이라고 부르겠습니다."
   ]
  },
  {
   "cell_type": "code",
   "execution_count": 22,
   "id": "ce0dca68",
   "metadata": {},
   "outputs": [
    {
     "name": "stdout",
     "output_type": "stream",
     "text": [
      "     A    B    C    D    0\n",
      "0   a0   b0   c0   d0  NaN\n",
      "1   a1   b1   c1   d1  NaN\n",
      "2   a2   b2   c2   d2  NaN\n",
      "3   a3   b3   c3   d3  NaN\n",
      "0  NaN  NaN  NaN  NaN   n1\n",
      "1  NaN  NaN  NaN  NaN   n2\n",
      "2  NaN  NaN  NaN  NaN   n3\n",
      "3  NaN  NaN  NaN  NaN   n4\n"
     ]
    }
   ],
   "source": [
    "print(pd.concat([df1, new_row_series]))"
   ]
  },
  {
   "cell_type": "markdown",
   "id": "6ccf4242",
   "metadata": {},
   "source": [
    "## 행이 1개라도 반드시 데이터프레임에 담아 연결해야 합니다.\n",
    "시리즈를 데이터프레임의 새로운 행으로 연결하려고 하면 제대로 되지 않습니다. 왜 그럴까요? 시리즈에는 열 이름이 없기 때문입니다. 그래서 시리즈를 새로운 열로 간주하여 0이라는 이름의 열로 추가한 것이죠."
   ]
  },
  {
   "cell_type": "markdown",
   "id": "1ab95739",
   "metadata": {},
   "source": [
    "### 행 1개로 구성된 데이터프레임 생성하여 연결하기\n",
    "#### 1.\n",
    "시리즈는 행이 1개인 데이터프레임이라고 생각해도 됩니다. 다음은 1개의 행을 가지는 데이터프레임을 생성하여 df1에 연결한 것입니다."
   ]
  },
  {
   "cell_type": "code",
   "execution_count": 23,
   "id": "c8363981",
   "metadata": {},
   "outputs": [
    {
     "name": "stdout",
     "output_type": "stream",
     "text": [
      "    A   B   C   D\n",
      "0  n1  n2  n3  n4\n"
     ]
    }
   ],
   "source": [
    "new_row_df=pd.DataFrame([['n1','n2','n3','n4']],columns=['A','B','C','D'])\n",
    "print(new_row_df)"
   ]
  },
  {
   "cell_type": "code",
   "execution_count": 25,
   "id": "b65cf866",
   "metadata": {},
   "outputs": [
    {
     "name": "stdout",
     "output_type": "stream",
     "text": [
      "    A   B   C   D\n",
      "0  a0  b0  c0  d0\n",
      "1  a1  b1  c1  d1\n",
      "2  a2  b2  c2  d2\n",
      "3  a3  b3  c3  d3\n",
      "0  n1  n2  n3  n4\n"
     ]
    }
   ],
   "source": [
    "print(pd.concat([df1,new_row_df]))"
   ]
  },
  {
   "cell_type": "markdown",
   "id": "af57302c",
   "metadata": {},
   "source": [
    "#### 2.\n",
    "concat 메서드는 한 번에 2개 이상의 데이터 프레임을 연결할 수 있는 메서드입니다. 만약 연결할 데이터프레임이 1개라면 append메서드를 사용해도 됩니다."
   ]
  },
  {
   "cell_type": "code",
   "execution_count": 26,
   "id": "36dd1f8f",
   "metadata": {},
   "outputs": [
    {
     "name": "stdout",
     "output_type": "stream",
     "text": [
      "    A   B   C   D\n",
      "0  a0  b0  c0  d0\n",
      "1  a1  b1  c1  d1\n",
      "2  a2  b2  c2  d2\n",
      "3  a3  b3  c3  d3\n",
      "0  n1  n2  n3  n4\n"
     ]
    }
   ],
   "source": [
    "print(df1.append(new_row_df))"
   ]
  },
  {
   "cell_type": "markdown",
   "id": "077b06b8",
   "metadata": {},
   "source": [
    "#### 3.\n",
    "append 메서드와 딕셔너리를 사용하면 더욱 간편하게 행을 연결할 수 있습니다. 이때 ignore_index를 True로 설정하면 데이터를 연결한 다음 데이터프레임의 인덱스를 0부터 다시 지정합니다."
   ]
  },
  {
   "cell_type": "code",
   "execution_count": 34,
   "id": "41552647",
   "metadata": {},
   "outputs": [
    {
     "name": "stdout",
     "output_type": "stream",
     "text": [
      "    A   B   C   D\n",
      "0  a0  b0  c0  d0\n",
      "1  a1  b1  c1  d1\n",
      "2  a2  b2  c2  d2\n",
      "3  a3  b3  c3  d3\n",
      "4  n1  n2  n3  n4\n"
     ]
    }
   ],
   "source": [
    "data_dict={'A':'n1','B':'n2','C':'n3','D':'n4'}\n",
    "print(df1.append(data_dict, ignore_index=True))"
   ]
  },
  {
   "cell_type": "markdown",
   "id": "a087bda6",
   "metadata": {},
   "source": [
    "###  다양한 방법으로 데이터 연결하기\n",
    "판다스는 데이터를 연결하는 다양한 방법을 제공합니다. 다음 예제를 통해 데이터를 연결하는 다양한 방법에 대해 알아보겠습니다."
   ]
  },
  {
   "cell_type": "markdown",
   "id": "52284b83",
   "metadata": {},
   "source": [
    "### 다양한 방법으로 데이터 연결하기\n",
    "#### 1. ignore_index 인자 사용하기\n",
    "바로 앞에서 실습했던 내용이죠? ignore_index를 True로 지정하면 데이터를 연결한 다음 데이터프레임의 인덱스를 0부터 다시 지정합니다."
   ]
  },
  {
   "cell_type": "code",
   "execution_count": 35,
   "id": "686381b2",
   "metadata": {},
   "outputs": [
    {
     "name": "stdout",
     "output_type": "stream",
     "text": [
      "      A    B    C    D\n",
      "0    a0   b0   c0   d0\n",
      "1    a1   b1   c1   d1\n",
      "2    a2   b2   c2   d2\n",
      "3    a3   b3   c3   d3\n",
      "4    a4   b4   c4   d4\n",
      "5    a5   b5   c5   d5\n",
      "6    a6   b6   c6   d6\n",
      "7    a7   b7   c7   d7\n",
      "8    a8   b8   c8   d8\n",
      "9    a9   b9   c9   d9\n",
      "10  a10  b10  c10  d10\n",
      "11  a11  b11  c11  d11\n"
     ]
    }
   ],
   "source": [
    "row_concat_i=pd.concat([df1,df2,df3], ignore_index=True)\n",
    "print(row_concat_i)"
   ]
  },
  {
   "cell_type": "markdown",
   "id": "a07c0226",
   "metadata": {},
   "source": [
    "#### 2. 열 방향으로 데이터 연결하기\n",
    "만약 행 방향이 아니라 열 방향으로 데이터를 연결하려면 어떻게 해야 할까요? concat메서드의 axis 인자를 1로 지정하면 됩니다. 다음은 df1,df2,df3을 열 방향으로 연결한 것입니다."
   ]
  },
  {
   "cell_type": "code",
   "execution_count": 37,
   "id": "b2fcc558",
   "metadata": {},
   "outputs": [
    {
     "name": "stdout",
     "output_type": "stream",
     "text": [
      "    A   B   C   D   A   B   C   D    A    B    C    D\n",
      "0  a0  b0  c0  d0  a4  b4  c4  d4   a8   b8   c8   d8\n",
      "1  a1  b1  c1  d1  a5  b5  c5  d5   a9   b9   c9   d9\n",
      "2  a2  b2  c2  d2  a6  b6  c6  d6  a10  b10  c10  d10\n",
      "3  a3  b3  c3  d3  a7  b7  c7  d7  a11  b11  c11  d11\n"
     ]
    }
   ],
   "source": [
    "col_concat=pd.concat([df1,df2,df3],axis=1)\n",
    "print(col_concat)"
   ]
  },
  {
   "cell_type": "markdown",
   "id": "471a7a51",
   "metadata": {},
   "source": [
    "#### 3.\n",
    "만약 같은 열 이름이 있는 데이터프레임에서 열 이름으로 데이터를 추출하면 해당 열 이름의 데이터를 모두 추출합니다."
   ]
  },
  {
   "cell_type": "code",
   "execution_count": 38,
   "id": "cb610e75",
   "metadata": {},
   "outputs": [
    {
     "name": "stdout",
     "output_type": "stream",
     "text": [
      "    A   A    A\n",
      "0  a0  a4   a8\n",
      "1  a1  a5   a9\n",
      "2  a2  a6  a10\n",
      "3  a3  a7  a11\n"
     ]
    }
   ],
   "source": [
    "print(col_concat['A'])"
   ]
  },
  {
   "cell_type": "markdown",
   "id": "9c181ed2",
   "metadata": {},
   "source": [
    "#### 4.\n",
    "다음과 같이 입력하면 간편하게 새로운 열을 추가할 수도 있습니다."
   ]
  },
  {
   "cell_type": "code",
   "execution_count": 39,
   "id": "caa198bd",
   "metadata": {},
   "outputs": [
    {
     "name": "stdout",
     "output_type": "stream",
     "text": [
      "    A   B   C   D   A   B   C   D    A    B    C    D new_col_list\n",
      "0  a0  b0  c0  d0  a4  b4  c4  d4   a8   b8   c8   d8           n1\n",
      "1  a1  b1  c1  d1  a5  b5  c5  d5   a9   b9   c9   d9           n2\n",
      "2  a2  b2  c2  d2  a6  b6  c6  d6  a10  b10  c10  d10           n3\n",
      "3  a3  b3  c3  d3  a7  b7  c7  d7  a11  b11  c11  d11           n4\n"
     ]
    }
   ],
   "source": [
    "col_concat['new_col_list']=['n1','n2','n3','n4']\n",
    "print(col_concat)"
   ]
  },
  {
   "cell_type": "markdown",
   "id": "6f4786c4",
   "metadata": {},
   "source": [
    "#### 5.\n",
    "과정 2에서는 데이터프레임의 열 이름을 유지한 채 연결했기 때문에 열 이름이 중복되었습니다. 다음은 ignore_index를 True로 지정하여 열 이름을 다시 지정한 것입니다."
   ]
  },
  {
   "cell_type": "code",
   "execution_count": 40,
   "id": "e2c3d90b",
   "metadata": {},
   "outputs": [
    {
     "name": "stdout",
     "output_type": "stream",
     "text": [
      "   0   1   2   3   4   5   6   7    8    9    10   11\n",
      "0  a0  b0  c0  d0  a4  b4  c4  d4   a8   b8   c8   d8\n",
      "1  a1  b1  c1  d1  a5  b5  c5  d5   a9   b9   c9   d9\n",
      "2  a2  b2  c2  d2  a6  b6  c6  d6  a10  b10  c10  d10\n",
      "3  a3  b3  c3  d3  a7  b7  c7  d7  a11  b11  c11  d11\n"
     ]
    }
   ],
   "source": [
    "print(pd.concat([df1,df2,df3], axis=1, ignore_index=True))"
   ]
  },
  {
   "cell_type": "markdown",
   "id": "13e3effd",
   "metadata": {},
   "source": [
    "#### 6. 공통 열과 공통 인덱스만 연결하기\n",
    "만약 열 이름의 일부가 서로 다른 데이터프레임을 연결하면 어떻게 될까요? 앞에서 사용한 df1,df2,df3의 열 이름을 다시 지정하겠습니다."
   ]
  },
  {
   "cell_type": "code",
   "execution_count": 41,
   "id": "b0bc3c68",
   "metadata": {},
   "outputs": [
    {
     "name": "stdout",
     "output_type": "stream",
     "text": [
      "    A   B   C   D\n",
      "0  a0  b0  c0  d0\n",
      "1  a1  b1  c1  d1\n",
      "2  a2  b2  c2  d2\n",
      "3  a3  b3  c3  d3\n",
      "<class 'pandas.core.frame.DataFrame'>\n"
     ]
    }
   ],
   "source": [
    "df1.columns=['A','B','C','D']\n",
    "df2.columns=['E','F','G','H']\n",
    "df3.columns=['A','C','F','H']\n",
    "print(df1)\n",
    "print(type(df1))"
   ]
  },
  {
   "cell_type": "code",
   "execution_count": 42,
   "id": "7f22bcf0",
   "metadata": {},
   "outputs": [
    {
     "name": "stdout",
     "output_type": "stream",
     "text": [
      "    E   F   G   H\n",
      "0  a4  b4  c4  d4\n",
      "1  a5  b5  c5  d5\n",
      "2  a6  b6  c6  d6\n",
      "3  a7  b7  c7  d7\n",
      "<class 'pandas.core.frame.DataFrame'>\n"
     ]
    }
   ],
   "source": [
    "print(df2)\n",
    "print(type(df2))"
   ]
  },
  {
   "cell_type": "code",
   "execution_count": 43,
   "id": "384b21b4",
   "metadata": {},
   "outputs": [
    {
     "name": "stdout",
     "output_type": "stream",
     "text": [
      "     A    C    F    H\n",
      "0   a8   b8   c8   d8\n",
      "1   a9   b9   c9   d9\n",
      "2  a10  b10  c10  d10\n",
      "3  a11  b11  c11  d11\n",
      "<class 'pandas.core.frame.DataFrame'>\n"
     ]
    }
   ],
   "source": [
    "print(df3)\n",
    "print(type(df3))"
   ]
  },
  {
   "cell_type": "markdown",
   "id": "117fb4cf",
   "metadata": {},
   "source": [
    "#### 7.\n",
    "새롭게 열 이름을 부여한 데이터프레임 3개를 concat메서드로 연결해 보겠습니다. 어떻게 되었나요? 열이름이 정렬되며 연결되었습니다. 그리고 데이터프레임에 없는 열 이름의 데이터는 누락값으로 처리되었습니다. 누락값 없이 데이터를 연결하는 방법은 없을까요?"
   ]
  },
  {
   "cell_type": "code",
   "execution_count": 44,
   "id": "72514880",
   "metadata": {},
   "outputs": [
    {
     "name": "stdout",
     "output_type": "stream",
     "text": [
      "     A    B    C    D    E    F    G    H\n",
      "0   a0   b0   c0   d0  NaN  NaN  NaN  NaN\n",
      "1   a1   b1   c1   d1  NaN  NaN  NaN  NaN\n",
      "2   a2   b2   c2   d2  NaN  NaN  NaN  NaN\n",
      "3   a3   b3   c3   d3  NaN  NaN  NaN  NaN\n",
      "0  NaN  NaN  NaN  NaN   a4   b4   c4   d4\n",
      "1  NaN  NaN  NaN  NaN   a5   b5   c5   d5\n",
      "2  NaN  NaN  NaN  NaN   a6   b6   c6   d6\n",
      "3  NaN  NaN  NaN  NaN   a7   b7   c7   d7\n",
      "0   a8  NaN   b8  NaN  NaN   c8  NaN   d8\n",
      "1   a9  NaN   b9  NaN  NaN   c9  NaN   d9\n",
      "2  a10  NaN  b10  NaN  NaN  c10  NaN  d10\n",
      "3  a11  NaN  b11  NaN  NaN  c11  NaN  d11\n"
     ]
    }
   ],
   "source": [
    "row_concat=pd.concat([df1,df2,df3])\n",
    "print(row_concat)"
   ]
  },
  {
   "cell_type": "markdown",
   "id": "ce175dfd",
   "metadata": {},
   "source": [
    "#### 8.\n",
    "데이터프레임의 공통 열만 골라 연결하면 누락값이 생기지 않을 것입니다. 공통 열만 골라서 연결하려면 join 인자를 inner로 지정해야 합니다. 아쉽게도 df1,df2,df3은 공통 열이 없습니다. 따라서 세 데이터프레임의 공통 열을 연결한 결괏값으로 Empty Data Frame이 출력됩니다."
   ]
  },
  {
   "cell_type": "code",
   "execution_count": 45,
   "id": "b4e6c0c6",
   "metadata": {},
   "outputs": [
    {
     "name": "stdout",
     "output_type": "stream",
     "text": [
      "Empty DataFrame\n",
      "Columns: []\n",
      "Index: [0, 1, 2, 3, 0, 1, 2, 3, 0, 1, 2, 3]\n"
     ]
    }
   ],
   "source": [
    "print(pd.concat([df1,df2,df3],join='inner'))"
   ]
  },
  {
   "cell_type": "markdown",
   "id": "ec6b28cf",
   "metadata": {},
   "source": [
    "#### 9. \n",
    "df1,df3의 공통 열만 골라 연결해 볼까요? 그러면 공통 열인 A와 C만 연결됩니다."
   ]
  },
  {
   "cell_type": "code",
   "execution_count": 46,
   "id": "3a7db8db",
   "metadata": {},
   "outputs": [
    {
     "name": "stdout",
     "output_type": "stream",
     "text": [
      "     A    C\n",
      "0   a0   c0\n",
      "1   a1   c1\n",
      "2   a2   c2\n",
      "3   a3   c3\n",
      "0   a8   b8\n",
      "1   a9   b9\n",
      "2  a10  b10\n",
      "3  a11  b11\n"
     ]
    }
   ],
   "source": [
    "print(pd.concat([df1,df3], ignore_index=False, join='inner'))"
   ]
  },
  {
   "cell_type": "markdown",
   "id": "d7bb4f9b",
   "metadata": {},
   "source": [
    "#### 10.\n",
    "이번에는 데이터프레임을 행 방향으로 연결해 볼까요? df1,df2,df3의 인덱스를 다시 지정해 보겠습니다."
   ]
  },
  {
   "cell_type": "code",
   "execution_count": 47,
   "id": "d0a96f88",
   "metadata": {},
   "outputs": [
    {
     "name": "stdout",
     "output_type": "stream",
     "text": [
      "    A   B   C   D\n",
      "0  a0  b0  c0  d0\n",
      "1  a1  b1  c1  d1\n",
      "2  a2  b2  c2  d2\n",
      "3  a3  b3  c3  d3\n"
     ]
    }
   ],
   "source": [
    "df1.index=[0,1,2,3]\n",
    "df2.index=[4,5,6,7]\n",
    "df3.index=[0,2,5,7]\n",
    "\n",
    "print(df1)"
   ]
  },
  {
   "cell_type": "code",
   "execution_count": 48,
   "id": "308c9ea3",
   "metadata": {},
   "outputs": [
    {
     "name": "stdout",
     "output_type": "stream",
     "text": [
      "    E   F   G   H\n",
      "4  a4  b4  c4  d4\n",
      "5  a5  b5  c5  d5\n",
      "6  a6  b6  c6  d6\n",
      "7  a7  b7  c7  d7\n"
     ]
    }
   ],
   "source": [
    "print(df2)"
   ]
  },
  {
   "cell_type": "code",
   "execution_count": 49,
   "id": "ad8d020d",
   "metadata": {},
   "outputs": [
    {
     "name": "stdout",
     "output_type": "stream",
     "text": [
      "     A    C    F    H\n",
      "0   a8   b8   c8   d8\n",
      "2   a9   b9   c9   d9\n",
      "5  a10  b10  c10  d10\n",
      "7  a11  b11  c11  d11\n"
     ]
    }
   ],
   "source": [
    "print(df3)"
   ]
  },
  {
   "cell_type": "markdown",
   "id": "d23efbf7",
   "metadata": {},
   "source": [
    "#### 11.\n",
    "concat 메서드로 df1,df2,df3을 행 방향으로 연결하면 과정 2와 비슷한 결과가 출력됩니다."
   ]
  },
  {
   "cell_type": "code",
   "execution_count": 51,
   "id": "2caebdff",
   "metadata": {},
   "outputs": [
    {
     "name": "stdout",
     "output_type": "stream",
     "text": [
      "     A    B    C    D    E    F    G    H    A    C    F    H\n",
      "0   a0   b0   c0   d0  NaN  NaN  NaN  NaN   a8   b8   c8   d8\n",
      "1   a1   b1   c1   d1  NaN  NaN  NaN  NaN  NaN  NaN  NaN  NaN\n",
      "2   a2   b2   c2   d2  NaN  NaN  NaN  NaN   a9   b9   c9   d9\n",
      "3   a3   b3   c3   d3  NaN  NaN  NaN  NaN  NaN  NaN  NaN  NaN\n",
      "4  NaN  NaN  NaN  NaN   a4   b4   c4   d4  NaN  NaN  NaN  NaN\n",
      "5  NaN  NaN  NaN  NaN   a5   b5   c5   d5  a10  b10  c10  d10\n",
      "6  NaN  NaN  NaN  NaN   a6   b6   c6   d6  NaN  NaN  NaN  NaN\n",
      "7  NaN  NaN  NaN  NaN   a7   b7   c7   d7  a11  b11  c11  d11\n"
     ]
    }
   ],
   "source": [
    "col_concat=pd.concat([df1,df2,df3], axis=1)\n",
    "print(col_concat)"
   ]
  },
  {
   "cell_type": "markdown",
   "id": "54725927",
   "metadata": {},
   "source": [
    "#### 12.\n",
    "과정 9와 비슷한 방법으로 df1,df3의 공통 행만 골라 연결해 볼까요? 그러면 공통 행인 0과 2만 출력됩니다."
   ]
  },
  {
   "cell_type": "code",
   "execution_count": 53,
   "id": "adc49c5e",
   "metadata": {},
   "outputs": [
    {
     "name": "stdout",
     "output_type": "stream",
     "text": [
      "    A   B   C   D   A   C   F   H\n",
      "0  a0  b0  c0  d0  a8  b8  c8  d8\n",
      "2  a2  b2  c2  d2  a9  b9  c9  d9\n"
     ]
    }
   ],
   "source": [
    "print(pd.concat([df1,df3], axis=1, join='inner'))"
   ]
  },
  {
   "cell_type": "markdown",
   "id": "df8e30f4",
   "metadata": {},
   "source": [
    "### 외부 조인과 내부 조인\n",
    "앞의 실습 예제는 데이터베이스의 주요 개념 중 하나인 내부 조인과 외부 조인을 실습한 것입니다. 만약 두 개념이 잘 이해되지 않는다면 아래에 정리한 내용을 읽어보세요."
   ]
  },
  {
   "cell_type": "markdown",
   "id": "e2e83fed",
   "metadata": {},
   "source": [
    "내부 조인 <br>\n",
    "둘 이상의 데이터프레임에서 조건에 맞는 행을 연결하는 것입니다."
   ]
  },
  {
   "cell_type": "markdown",
   "id": "b9db9d56",
   "metadata": {},
   "source": [
    "외부조인<br>\n",
    "외부 조인은 두 데이터프레임 중 어떤 데이터프레임을 기준으로 할 것인지에 따라 왼쪽 외부조인과 오른쪽 오른쪽 외부 조인, 완전 외부조인으로 나눌 수 있습니다. 왼쪽 외부 조인은 데이터프레임을 연결할 때 왼쪽 데이터프레임을 모두 포함하여 연결하는 것이고 오른쪽 외부 조인은 데이터프레임을 연결할 때 오른쪽 데이터프레임을 모두 포함하여 연결하는 것입니다. 완전 외부 조인은 왼쪽과 오른쪽 데이터프레임을 모두 포함하여 연결합니다."
   ]
  },
  {
   "cell_type": "markdown",
   "id": "4c0ca5ce",
   "metadata": {},
   "source": [
    "# 05-3 데이터 연결 마무리\n",
    "판다스는 데이터 연결 전용 메서드인 merge를 제공합니다. merge 메서드의 사용 방법을 실습하면서 데이터 연결을 마무리하겠습니다."
   ]
  },
  {
   "cell_type": "markdown",
   "id": "0b7f4b0a",
   "metadata": {},
   "source": [
    "### merge 메서드 사용하기\n",
    "#### 1.\n",
    "다음은 특정 위치의 날씨 정보에 필요한 데이터 집합을 모두 불러온 것입니다. person은 관측한 사람의 이름, site는 관측 위치, visited는 관측 날짜, survey는 날씨 정보입니다."
   ]
  },
  {
   "cell_type": "code",
   "execution_count": 58,
   "id": "a0fdcecf",
   "metadata": {},
   "outputs": [],
   "source": [
    "person=pd.read_csv('data/survey_person.csv')\n",
    "site=pd.read_csv('data/survey_site.csv')\n",
    "survey=pd.read_csv('data/survey_survey.csv')\n",
    "visited=pd.read_csv('data/survey_visited.csv')"
   ]
  },
  {
   "cell_type": "code",
   "execution_count": 59,
   "id": "ecf986da",
   "metadata": {},
   "outputs": [
    {
     "name": "stdout",
     "output_type": "stream",
     "text": [
      "      ident   personal    family\n",
      "0      dyer    William      Dyer\n",
      "1        pb      Frank   Pabodie\n",
      "2      lake   Anderson      Lake\n",
      "3       roe  Valentina   Roerich\n",
      "4  danforth      Frank  Danforth\n"
     ]
    }
   ],
   "source": [
    "print(person)"
   ]
  },
  {
   "cell_type": "code",
   "execution_count": 60,
   "id": "56a32bdc",
   "metadata": {},
   "outputs": [
    {
     "name": "stdout",
     "output_type": "stream",
     "text": [
      "    name    lat    long\n",
      "0   DR-1 -49.85 -128.57\n",
      "1   DR-3 -47.15 -126.72\n",
      "2  MSK-4 -48.87 -123.40\n"
     ]
    }
   ],
   "source": [
    "print(site)"
   ]
  },
  {
   "cell_type": "code",
   "execution_count": 62,
   "id": "3e7f385e",
   "metadata": {},
   "outputs": [
    {
     "name": "stdout",
     "output_type": "stream",
     "text": [
      "   ident   site       dated\n",
      "0    619   DR-1  1927-02-08\n",
      "1    622   DR-1  1927-02-10\n",
      "2    734   DR-3  1939-01-07\n",
      "3    735   DR-3  1930-01-12\n",
      "4    751   DR-3  1930-02-26\n",
      "5    752   DR-3         NaN\n",
      "6    837  MSK-4  1932-01-14\n",
      "7    844   DR-1  1932-03-22\n"
     ]
    }
   ],
   "source": [
    "print(visited)"
   ]
  },
  {
   "cell_type": "code",
   "execution_count": 63,
   "id": "8a612cee",
   "metadata": {},
   "outputs": [
    {
     "name": "stdout",
     "output_type": "stream",
     "text": [
      "    taken person quant  reading\n",
      "0     619   dyer   rad     9.82\n",
      "1     619   dyer   sal     0.13\n",
      "2     622   dyer   rad     7.80\n",
      "3     622   dyer   sal     0.09\n",
      "4     734     pb   rad     8.41\n",
      "5     734   lake   sal     0.05\n",
      "6     734     pb  temp   -21.50\n",
      "7     735     pb   rad     7.22\n",
      "8     735    NaN   sal     0.06\n",
      "9     735    NaN  temp   -26.00\n",
      "10    751     pb   rad     4.35\n",
      "11    751     pb  temp   -18.50\n",
      "12    751   lake   sal     0.10\n",
      "13    752   lake   rad     2.19\n",
      "14    752   lake   sal     0.09\n",
      "15    752   lake  temp   -16.00\n",
      "16    752    roe   sal    41.60\n",
      "17    837   lake   rad     1.46\n",
      "18    837   lake   sal     0.21\n",
      "19    837    roe   sal    22.50\n",
      "20    844    roe   rad    11.25\n"
     ]
    }
   ],
   "source": [
    "print(survey)"
   ]
  },
  {
   "cell_type": "markdown",
   "id": "10e82e39",
   "metadata": {},
   "source": [
    "#### 2.\n",
    "visited 데이터프레임의 일부 데이터만 떼어 실습에 사용하겠습니다."
   ]
  },
  {
   "cell_type": "code",
   "execution_count": 66,
   "id": "c37aaf36",
   "metadata": {},
   "outputs": [],
   "source": [
    "visited_subset=visited.loc[[0,2,6],]"
   ]
  },
  {
   "cell_type": "markdown",
   "id": "5bbe2cba",
   "metadata": {},
   "source": [
    "#### 3.\n",
    "merge 메서드는 기본적으로 내부 조인을 실행하며 메서드를 사용한 데이터프레임을 왼쪽으로 지정하고 첫 번째 인잣값으로 지정한 데이터프레임을 오른쪽으로 지정합니다. left_on, right_on 인자는 값이 일치해야 할 왼쪽과 오른쪽 데이터프레임의 열을 지정합니다. 즉, 왼쪽 데이터프레임의 열과 오른쪽 데이터프레임의 열의 값이 일치하면 왼쪽 데이터프레임을 기준으로 연결합니다."
   ]
  },
  {
   "cell_type": "code",
   "execution_count": 69,
   "id": "c424abc1",
   "metadata": {},
   "outputs": [
    {
     "name": "stdout",
     "output_type": "stream",
     "text": [
      "    name    lat    long  ident   site       dated\n",
      "0   DR-1 -49.85 -128.57    619   DR-1  1927-02-08\n",
      "1   DR-3 -47.15 -126.72    734   DR-3  1939-01-07\n",
      "2  MSK-4 -48.87 -123.40    837  MSK-4  1932-01-14\n"
     ]
    }
   ],
   "source": [
    "o2o_merge=site.merge(visited_subset, left_on='name', right_on='site')\n",
    "print(o2o_merge)"
   ]
  },
  {
   "cell_type": "markdown",
   "id": "4ded163e",
   "metadata": {},
   "source": [
    "#### 4.\n",
    "다음은 site, visited 데이터프레임을 이용하여 데이터를 연결한 것입니다."
   ]
  },
  {
   "cell_type": "code",
   "execution_count": 71,
   "id": "b28492b2",
   "metadata": {},
   "outputs": [
    {
     "name": "stdout",
     "output_type": "stream",
     "text": [
      "    name    lat    long  ident   site       dated\n",
      "0   DR-1 -49.85 -128.57    619   DR-1  1927-02-08\n",
      "1   DR-1 -49.85 -128.57    622   DR-1  1927-02-10\n",
      "2   DR-1 -49.85 -128.57    844   DR-1  1932-03-22\n",
      "3   DR-3 -47.15 -126.72    734   DR-3  1939-01-07\n",
      "4   DR-3 -47.15 -126.72    735   DR-3  1930-01-12\n",
      "5   DR-3 -47.15 -126.72    751   DR-3  1930-02-26\n",
      "6   DR-3 -47.15 -126.72    752   DR-3         NaN\n",
      "7  MSK-4 -48.87 -123.40    837  MSK-4  1932-01-14\n"
     ]
    }
   ],
   "source": [
    "m2o_merge=site.merge(visited, left_on='name', right_on='site')\n",
    "print(m2o_merge)"
   ]
  },
  {
   "cell_type": "markdown",
   "id": "193fae9a",
   "metadata": {},
   "source": [
    "#### 5.\n",
    "다른 데이터프레임도 연결해 볼까요? 다음은 person, survey 데이터프레임과 visited, survey 데이터프레임을 merge 메서드로 연결한 것입니다."
   ]
  },
  {
   "cell_type": "code",
   "execution_count": 73,
   "id": "f94ddb6d",
   "metadata": {},
   "outputs": [],
   "source": [
    "ps=person.merge(survey, left_on='ident', right_on='person')\n",
    "vs=visited.merge(survey, left_on='ident', right_on='taken')"
   ]
  },
  {
   "cell_type": "code",
   "execution_count": 74,
   "id": "03f1abc8",
   "metadata": {},
   "outputs": [
    {
     "name": "stdout",
     "output_type": "stream",
     "text": [
      "   ident   personal   family  taken person quant  reading\n",
      "0   dyer    William     Dyer    619   dyer   rad     9.82\n",
      "1   dyer    William     Dyer    619   dyer   sal     0.13\n",
      "2   dyer    William     Dyer    622   dyer   rad     7.80\n",
      "3   dyer    William     Dyer    622   dyer   sal     0.09\n",
      "4     pb      Frank  Pabodie    734     pb   rad     8.41\n",
      "5     pb      Frank  Pabodie    734     pb  temp   -21.50\n",
      "6     pb      Frank  Pabodie    735     pb   rad     7.22\n",
      "7     pb      Frank  Pabodie    751     pb   rad     4.35\n",
      "8     pb      Frank  Pabodie    751     pb  temp   -18.50\n",
      "9   lake   Anderson     Lake    734   lake   sal     0.05\n",
      "10  lake   Anderson     Lake    751   lake   sal     0.10\n",
      "11  lake   Anderson     Lake    752   lake   rad     2.19\n",
      "12  lake   Anderson     Lake    752   lake   sal     0.09\n",
      "13  lake   Anderson     Lake    752   lake  temp   -16.00\n",
      "14  lake   Anderson     Lake    837   lake   rad     1.46\n",
      "15  lake   Anderson     Lake    837   lake   sal     0.21\n",
      "16   roe  Valentina  Roerich    752    roe   sal    41.60\n",
      "17   roe  Valentina  Roerich    837    roe   sal    22.50\n",
      "18   roe  Valentina  Roerich    844    roe   rad    11.25\n"
     ]
    }
   ],
   "source": [
    "print(ps)"
   ]
  },
  {
   "cell_type": "code",
   "execution_count": 75,
   "id": "3b648050",
   "metadata": {},
   "outputs": [
    {
     "name": "stdout",
     "output_type": "stream",
     "text": [
      "    ident   site       dated  taken person quant  reading\n",
      "0     619   DR-1  1927-02-08    619   dyer   rad     9.82\n",
      "1     619   DR-1  1927-02-08    619   dyer   sal     0.13\n",
      "2     622   DR-1  1927-02-10    622   dyer   rad     7.80\n",
      "3     622   DR-1  1927-02-10    622   dyer   sal     0.09\n",
      "4     734   DR-3  1939-01-07    734     pb   rad     8.41\n",
      "5     734   DR-3  1939-01-07    734   lake   sal     0.05\n",
      "6     734   DR-3  1939-01-07    734     pb  temp   -21.50\n",
      "7     735   DR-3  1930-01-12    735     pb   rad     7.22\n",
      "8     735   DR-3  1930-01-12    735    NaN   sal     0.06\n",
      "9     735   DR-3  1930-01-12    735    NaN  temp   -26.00\n",
      "10    751   DR-3  1930-02-26    751     pb   rad     4.35\n",
      "11    751   DR-3  1930-02-26    751     pb  temp   -18.50\n",
      "12    751   DR-3  1930-02-26    751   lake   sal     0.10\n",
      "13    752   DR-3         NaN    752   lake   rad     2.19\n",
      "14    752   DR-3         NaN    752   lake   sal     0.09\n",
      "15    752   DR-3         NaN    752   lake  temp   -16.00\n",
      "16    752   DR-3         NaN    752    roe   sal    41.60\n",
      "17    837  MSK-4  1932-01-14    837   lake   rad     1.46\n",
      "18    837  MSK-4  1932-01-14    837   lake   sal     0.21\n",
      "19    837  MSK-4  1932-01-14    837    roe   sal    22.50\n",
      "20    844   DR-1  1932-03-22    844    roe   rad    11.25\n"
     ]
    }
   ],
   "source": [
    "print(vs)"
   ]
  },
  {
   "cell_type": "markdown",
   "id": "d7c756b0",
   "metadata": {},
   "source": [
    "#### 6.\n",
    "left_on, right_on 에 전달하는 값은 여러 개라도 상관이 없습니다. 다음과 같이 여러개의 열 이름을 리스트에 담아 전달해도 됩니다. 다음은 ps 데이터프레임의 ident, taken, quant, reading 열의 갑과 vs 데이터프레임의 person, ident, quant, reading 열의 값을 이용하여 ps와 vs 데이터프레임을 서로 연결한 것입니다."
   ]
  },
  {
   "cell_type": "code",
   "execution_count": 78,
   "id": "54e1faea",
   "metadata": {},
   "outputs": [],
   "source": [
    "ps_vs=ps.merge(vs, left_on=['ident', 'taken', 'quant', 'reading'], right_on=['person','ident', 'quant', 'reading'])"
   ]
  },
  {
   "cell_type": "markdown",
   "id": "d905873d",
   "metadata": {},
   "source": [
    "#### 7.\n",
    "과정 6에서 연결한 ps_vs 데이터프레임의 첫 번째 행을 살펴보면 양쪽 데이터프레임에 있었던 중복된 열 이름에 접미사 _x,_y가 추가되어 있는 것을 알 수 있습니다. _x는 왼쪽 데이터프레임의 열을 의미하고 _y는 오른쪽 데이터프레임의 열을 의미합니다."
   ]
  },
  {
   "cell_type": "code",
   "execution_count": 79,
   "id": "45e756fe",
   "metadata": {},
   "outputs": [
    {
     "name": "stdout",
     "output_type": "stream",
     "text": [
      "ident_x           dyer\n",
      "personal       William\n",
      "family            Dyer\n",
      "taken_x            619\n",
      "person_x          dyer\n",
      "quant              rad\n",
      "reading           9.82\n",
      "ident_y            619\n",
      "site              DR-1\n",
      "dated       1927-02-08\n",
      "taken_y            619\n",
      "person_y          dyer\n",
      "Name: 0, dtype: object\n"
     ]
    }
   ],
   "source": [
    "print(ps_vs.loc[0,])"
   ]
  },
  {
   "cell_type": "markdown",
   "id": "8dbc77d1",
   "metadata": {},
   "source": [
    "## 마무리하며\n",
    "이 장에서는 데이터를 연결하는 다양한 방법을 알아보았습니다. 특히 누락값과 중복값을 해결하기 위한 여러 가지 방법에 대해 알아보았습니다. 누락값과 중복값은 데이터 분석을 방해하는 요소가 될 수 있기 때문이죠. 05장을 시작하며 소개한 깔끔한 데이터의 조건중 하나인 '데이터 분석 목적에 맞는 데이터를 모아 새로운 표를 만들어야 합니다'는 바로 누락값이나 중복값이 없는 상태로 데이터가 잘 연결되어 있어야 한다는 말입니다."
   ]
  },
  {
   "cell_type": "markdown",
   "id": "22068eb4",
   "metadata": {},
   "source": [
    "출처 : \"do it 데이터 분석을 위한 판다스 입문\""
   ]
  }
 ],
 "metadata": {
  "kernelspec": {
   "display_name": "Python 3",
   "language": "python",
   "name": "python3"
  },
  "language_info": {
   "codemirror_mode": {
    "name": "ipython",
    "version": 3
   },
   "file_extension": ".py",
   "mimetype": "text/x-python",
   "name": "python",
   "nbconvert_exporter": "python",
   "pygments_lexer": "ipython3",
   "version": "3.8.8"
  }
 },
 "nbformat": 4,
 "nbformat_minor": 5
}
